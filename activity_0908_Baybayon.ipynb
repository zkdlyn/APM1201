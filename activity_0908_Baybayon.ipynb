{
 "cells": [
  {
   "cell_type": "code",
   "execution_count": 9,
   "id": "944ef70a",
   "metadata": {},
   "outputs": [
    {
     "name": "stdout",
     "output_type": "stream",
     "text": [
      "Fill array A\n",
      "1\n",
      "2\n",
      "3\n",
      "4\n",
      "5\n",
      "6\n",
      "7\n",
      "8\n",
      "9\n",
      "1 2 3 \n",
      "4 5 6 \n",
      "7 8 9 \n",
      "-------------------------\n",
      "Fill array B\n",
      "9\n",
      "8\n",
      "7\n",
      "6\n",
      "5\n",
      "4\n",
      "3\n",
      "2\n",
      "1\n",
      "9 8 7 \n",
      "6 5 4 \n",
      "3 2 1 \n"
     ]
    }
   ],
   "source": [
    "A=[]\n",
    "B=[]\n",
    "print('Fill array A')\n",
    "for i in range(3):\n",
    "    a=[]\n",
    "    for j in range(3):\n",
    "        a.append(int(input()))\n",
    "    A.append(a)\n",
    "    \n",
    "for i in range(3):\n",
    "    for j in range(3):\n",
    "        print(A[i] [j], end=' ')\n",
    "    print()\n",
    "print('-------------------------')\n",
    "print('Fill array B')\n",
    "for i in range(3):\n",
    "    a=[]\n",
    "    for j in range(3):\n",
    "        a.append(int(input()))\n",
    "    B.append(a)\n",
    "for i in range(3):\n",
    "    for j in range(3):\n",
    "        print(B[i] [j], end=' ')\n",
    "    print()\n"
   ]
  },
  {
   "cell_type": "code",
   "execution_count": 11,
   "id": "3a83f76f",
   "metadata": {},
   "outputs": [
    {
     "name": "stdout",
     "output_type": "stream",
     "text": [
      "1 4 7 \n",
      "2 5 8 \n",
      "3 6 9 \n"
     ]
    }
   ],
   "source": [
    "AT = [] #transposed A\n",
    "for i in range(3):\n",
    "    a=[]\n",
    "    for j in range(3):\n",
    "        at = A[j][i]\n",
    "        a.append(at)\n",
    "    AT.append(a)\n",
    "#print transposed A\n",
    "for i in range(3):\n",
    "    for j in range(3):\n",
    "        print(AT[i] [j], end=' ')\n",
    "    print()"
   ]
  },
  {
   "cell_type": "code",
   "execution_count": 8,
   "id": "3b289d17",
   "metadata": {},
   "outputs": [
    {
     "name": "stdout",
     "output_type": "stream",
     "text": [
      "9 6 3 \n",
      "8 5 2 \n",
      "7 4 1 \n"
     ]
    }
   ],
   "source": [
    "BT = [] #transposed B\n",
    "for i in range(3):\n",
    "    a=[]\n",
    "    for j in range(3):\n",
    "        bt = B[j][i]\n",
    "        a.append(bt)\n",
    "    BT.append(a)\n",
    "#print transposed B\n",
    "for i in range(3):\n",
    "    for j in range(3):\n",
    "        print(BT[i] [j], end=' ')\n",
    "    print()"
   ]
  },
  {
   "cell_type": "markdown",
   "id": "48a72a3c",
   "metadata": {},
   "source": [
    "FORMULA\n",
    "\n",
    "c = 2at +2b\n",
    "\n",
    "d = bt^2 - a\n",
    "\n",
    "e = a/2 + bt"
   ]
  },
  {
   "cell_type": "code",
   "execution_count": 12,
   "id": "ab76a278",
   "metadata": {},
   "outputs": [
    {
     "name": "stdout",
     "output_type": "stream",
     "text": [
      "20 24 28 \n",
      "16 20 24 \n",
      "12 16 20 \n"
     ]
    }
   ],
   "source": [
    "C = [] #c = 2at +2b\n",
    "\n",
    "for i in range(3):\n",
    "    a=[]\n",
    "    for j in range(3):\n",
    "        s=(2 * AT[i][j]) + (2 *B[i][j])\n",
    "        a.append(s)\n",
    "    C.append(a)\n",
    "for i in range(3):\n",
    "    for j in range(3):\n",
    "        print(C[i] [j], end=' ')\n",
    "    print()\n"
   ]
  },
  {
   "cell_type": "code",
   "execution_count": 13,
   "id": "fb968556",
   "metadata": {},
   "outputs": [
    {
     "name": "stdout",
     "output_type": "stream",
     "text": [
      "80 34 6 \n",
      "60 20 -2 \n",
      "42 8 -8 \n"
     ]
    }
   ],
   "source": [
    "D = [] #d = bt^2 - a\n",
    "\n",
    "for i in range(3):\n",
    "    a=[]\n",
    "    for j in range(3):\n",
    "        s=((BT[i][j])**2) - (A[i][j])\n",
    "        a.append(s)\n",
    "    D.append(a)\n",
    "for i in range(3):\n",
    "    for j in range(3):\n",
    "        print(D[i] [j], end=' ')\n",
    "    print()"
   ]
  },
  {
   "cell_type": "code",
   "execution_count": 15,
   "id": "42611da5",
   "metadata": {},
   "outputs": [
    {
     "name": "stdout",
     "output_type": "stream",
     "text": [
      "9.5 7.0 4.5 \n",
      "10.0 7.5 5.0 \n",
      "10.5 8.0 5.5 \n"
     ]
    }
   ],
   "source": [
    "E = [] #e = a/2 + bt\n",
    "\n",
    "for i in range(3):\n",
    "    a=[]\n",
    "    for j in range(3):\n",
    "        s=((A[i][j])/2) + (BT[i][j])\n",
    "        a.append(s)\n",
    "    E.append(a)\n",
    "for i in range(3):\n",
    "    for j in range(3):\n",
    "        print(E[i] [j], end=' ')\n",
    "    print()"
   ]
  },
  {
   "cell_type": "code",
   "execution_count": null,
   "id": "1481bccc",
   "metadata": {},
   "outputs": [],
   "source": []
  }
 ],
 "metadata": {
  "kernelspec": {
   "display_name": "Python 3 (ipykernel)",
   "language": "python",
   "name": "python3"
  },
  "language_info": {
   "codemirror_mode": {
    "name": "ipython",
    "version": 3
   },
   "file_extension": ".py",
   "mimetype": "text/x-python",
   "name": "python",
   "nbconvert_exporter": "python",
   "pygments_lexer": "ipython3",
   "version": "3.11.1"
  }
 },
 "nbformat": 4,
 "nbformat_minor": 5
}
