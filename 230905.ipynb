{
 "cells": [
  {
   "cell_type": "code",
   "execution_count": 41,
   "metadata": {},
   "outputs": [
    {
     "name": "stdout",
     "output_type": "stream",
     "text": [
      "1\n",
      "2\n",
      "3\n",
      "4\n",
      "5\n",
      "6\n",
      "7\n",
      "8\n",
      "9\n",
      "10\n",
      "[1, 2, 3, 4, 5, 6, 7, 8, 9, 10]\n",
      "[2, 1, 4, 3, 6, 5, 8, 7, 10, 9]\n",
      "[9, 10, 7, 8, 5, 6, 3, 4, 1, 2]\n",
      "[-1.1458980337503153, -1.381966011250105, (-1.1666666666666667+0.9860132971832694j), (-0.9999999999999999+1j), (-0.4999999999999999+0.8660254037844387j), (-0.49999999999999994+0.8660254037844387j), (-0.21428571428571425+0.618589574131742j), (-0.24999999999999997+0.6614378277661477j), (-0.05555555555555554+0.32867109906108977j), (-0.09999999999999998+0.4358898943540674j)]\n",
      "[5, 8, 7, 10, 9, 6, 3, 4, 1, 2]\n"
     ]
    }
   ],
   "source": [
    "a=[]\n",
    "b=[]\n",
    "c=[]\n",
    "d=[]\n",
    "e=[]\n",
    "#fill-up A\n",
    "for x in range (10):\n",
    "    n=int(input())\n",
    "    a.append(n)\n",
    "print(a)\n",
    "#fill-up B\n",
    "for x in range (10):\n",
    "    if x%2 == 0:\n",
    "        b.append(a[x+1])\n",
    "    else:\n",
    "        b.append(a[x-1])\n",
    "print(b)\n",
    "#fill-up C\n",
    "c=b\n",
    "c.reverse()\n",
    "print(c)\n",
    "#fill-up D\n",
    "for x in range (10):\n",
    "    m=(-(b[x])+((b[x])**2-4*a[x]*c[x])**(1/2))/(2*a[x])\n",
    "    d.append(m)\n",
    "print(d)\n",
    "#fill-up E\n",
    "n=4\n",
    "for x in range (5):\n",
    "    e.append(c[n])\n",
    "    n-=1\n",
    "for x in range(5,10):\n",
    "    e.append(b[x])\n",
    "print(e)"
   ]
  },
  {
   "cell_type": "code",
   "execution_count": 42,
   "metadata": {
    "scrolled": true
   },
   "outputs": [
    {
     "name": "stdout",
     "output_type": "stream",
     "text": [
      "1\n",
      "2\n",
      "3\n",
      "4\n",
      "5\n",
      "6\n",
      "7\n",
      "8\n",
      "9\n",
      "10\n",
      "[1, 2, 3, 4, 5, 6, 7, 8, 9, 10]\n",
      "[2, 1, 4, 3, 6, 5, 8, 7, 10, 9]\n",
      "[9, 10, 7, 8, 5, 6, 3, 4, 1, 2]\n",
      "[(-0.9999999999999998+2.8284271247461903j), (-0.24999999999999986+2.222048604328897j), (-0.6666666666666666+1.3743685418725535j), (-0.3749999999999999+1.3635890143294642j), (-0.5999999999999999+0.8j), (-0.4166666666666666+0.9090593428863095j), (-0.5714285714285714+0.31943828249996997j), (-0.43749999999999994+0.5555121510822243j), -0.1111111111111111, -0.4]\n",
      "[5, 8, 7, 10, 9, 5, 8, 7, 10, 9]\n"
     ]
    }
   ],
   "source": [
    "a=[]\n",
    "b=[0]*10\n",
    "c=[]\n",
    "d=[]\n",
    "e=[]\n",
    "#fill-up A\n",
    "for x in range (10):\n",
    "    n=int(input())\n",
    "    a.append(n)\n",
    "print(a)\n",
    "#fill-up B\n",
    "for x in range (0,10,2):\n",
    "    b[x]=a[x+1]\n",
    "    b[x+1]=a[x]\n",
    "print(b)\n",
    "#fill-up C\n",
    "c=b[::-1]\n",
    "print(c)\n",
    "#fill-up D\n",
    "for x in range (10):\n",
    "    m=(-(b[x])+((b[x])**2-4*a[x]*c[x])**(1/2))/(2*a[x])\n",
    "    d.append(m)\n",
    "print(d)\n",
    "#fill-up E\n",
    "e=c[0:5][::-1]*2\n",
    "print(e)"
   ]
  }
 ],
 "metadata": {
  "kernelspec": {
   "display_name": "Python 3",
   "language": "python",
   "name": "python3"
  },
  "language_info": {
   "codemirror_mode": {
    "name": "ipython",
    "version": 3
   },
   "file_extension": ".py",
   "mimetype": "text/x-python",
   "name": "python",
   "nbconvert_exporter": "python",
   "pygments_lexer": "ipython3",
   "version": "3.7.0"
  }
 },
 "nbformat": 4,
 "nbformat_minor": 2
}
