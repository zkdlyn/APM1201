{
 "cells": [
  {
   "cell_type": "code",
   "execution_count": 1,
   "id": "288da7c7",
   "metadata": {},
   "outputs": [
    {
     "name": "stdout",
     "output_type": "stream",
     "text": [
      "Enter a number: 2\n",
      "Enter a number: 4\n",
      "Enter a number: 6\n",
      "Enter a number: 8\n",
      "Enter a number: 10\n",
      "Enter a number: 20\n",
      "Enter a number: 18\n",
      "Enter a number: 16\n",
      "Enter a number: 14\n",
      "Enter a number: 12\n"
     ]
    }
   ],
   "source": [
    "\n",
    "list = []\n",
    "\n",
    "for i in range(10):\n",
    "    num = int(input('Enter a number: '))\n",
    "    list.append(num)"
   ]
  },
  {
   "cell_type": "code",
   "execution_count": 2,
   "id": "45085123",
   "metadata": {},
   "outputs": [],
   "source": [
    "def bubbleSort(list, size, arrange):\n",
    "    swapnum = 0\n",
    "    for passnum in range(size-1,0,-1):\n",
    "        for i in range(passnum):\n",
    "            if arrange == 1:\n",
    "                if list[i]>list[i+1]:\n",
    "                    temp = list[i]\n",
    "                    list[i] = list[i+1]\n",
    "                    list[i+1] = temp\n",
    "                    swapnum += 1\n",
    "            if arrange ==2:\n",
    "                if list[i]<list[i+1]:\n",
    "                    temp = list[i]\n",
    "                    list[i] = list[i+1]\n",
    "                    list[i+1] = temp\n",
    "                    swapnum += 1\n",
    "    return swapnum\n",
    "            \n",
    "def selectionSort(list, size, arrange):\n",
    "    swapnum = 0\n",
    "    for step in range(size):\n",
    "        min_idx = step\n",
    "        for i in range(step + 1, size):\n",
    "            if arrange == 1:\n",
    "                if list[i] < list[min_idx]:\n",
    "                    min_idx = i\n",
    "                    swapnum += 1\n",
    "            if arrange == 2:\n",
    "                if list[i] > list[min_idx]:\n",
    "                    min_idx = i\n",
    "                    swapnum += 1\n",
    "        (list[step], list[min_idx]) = (list[min_idx], list[step])\n",
    "    return swapnum\n",
    "\n",
    "def insertionSort(list, size, arrange):\n",
    "    swapnum = 0\n",
    "    for step in range(1, size):\n",
    "        key = list[step]\n",
    "        j = step - 1\n",
    "        if arrange == 1:\n",
    "            while j >= 0 and key < list[j]:\n",
    "                list[j + 1] = list[j]\n",
    "                j = j - 1\n",
    "                swapnum += 1\n",
    "        if arrange == 2:\n",
    "            while j >= 0 and key > list[j]:\n",
    "                list[j + 1] = list[j]\n",
    "                j = j - 1\n",
    "                swapnum += 1\n",
    "        list[j + 1] = key\n",
    "    return swapnum\n",
    "        \n",
    "\n",
    "\n",
    "def getMedian(list, size):\n",
    "    mid = size//2\n",
    "    if size%2 == 0:\n",
    "        median = (list[mid-1] + list[mid])/2\n",
    "    else:\n",
    "        median = list[mid]\n",
    "    return median\n",
    "def getMean(list, size):\n",
    "    sum = 0\n",
    "    for x in list:\n",
    "        sum += x\n",
    "    mean = sum / size\n",
    "    return mean"
   ]
  },
  {
   "cell_type": "code",
   "execution_count": null,
   "id": "f7172ffc",
   "metadata": {},
   "outputs": [
    {
     "name": "stdout",
     "output_type": "stream",
     "text": [
      "\n",
      "Choose a sorting algorithm\n",
      "\n",
      "    [1] Bubble Sort\n",
      "    [2] Selection Sort\n",
      "    [3] Insertion Sort\n",
      "    [4] Exit\n",
      "    \n",
      "Choice: 1\n",
      "Bubble Sort\n",
      "\n",
      "    Choose an arrangement\n",
      "    [1] Ascending\n",
      "    [2] Descending\n",
      "        \n",
      "Choice: 1\n",
      "[2, 4, 6, 8, 10, 12, 14, 16, 18, 20]\n",
      "Number of iterations: 0\n",
      "Median:  11.0\n",
      "Mean:  11.0\n",
      "Do you want to try again? \n",
      "[Y] Yes \n",
      "[N] No\n"
     ]
    }
   ],
   "source": [
    "size = len(list)\n",
    "iter = 0\n",
    "while True:\n",
    "    \n",
    "    print('\\nChoose a sorting algorithm')\n",
    "    print('''\n",
    "    [1] Bubble Sort\n",
    "    [2] Selection Sort\n",
    "    [3] Insertion Sort\n",
    "    [4] Exit\n",
    "    ''')\n",
    "    choice = int(input('Choice: '))\n",
    "\n",
    "    if choice == 1:\n",
    "        print('Bubble Sort')\n",
    "        print('''\n",
    "    Choose an arrangement\n",
    "    [1] Ascending\n",
    "    [2] Descending\n",
    "        ''')\n",
    "        arrange = int(input('Choice: '))\n",
    "        bubbleSort(list, size, arrange)\n",
    "        numswaps = bubbleSort(list, size, arrange)\n",
    "    if choice == 2:\n",
    "        print('Selection Sort')\n",
    "        print('''\n",
    "    Choose an arrangement\n",
    "    [1] Ascending\n",
    "    [2] Descending\n",
    "        ''')\n",
    "        arrange = int(input('Choice: '))\n",
    "        selectionSort(list, size, arrange)\n",
    "        numswaps = selectionSort(list, size, arrange)\n",
    "    if choice == 3:\n",
    "        print('Insertion Sort')\n",
    "        print('''\n",
    "    Choose an arrangement\n",
    "    [1] Ascending\n",
    "    [2] Descending\n",
    "        ''')\n",
    "        arrange = int(input('Choice: '))\n",
    "        insertionSort(list, size, arrange)\n",
    "        numswaps = insertionSort(list, size, arrange)\n",
    "    # if choice == 4:\n",
    "    #     print('Closing the program.')\n",
    "    #     break\n",
    "    print(list)\n",
    "    print(f'Number of iterations: {numswaps}')\n",
    "    print('Median: ', getMedian(list, size))\n",
    "    print('Mean: ', getMean(list, size))\n",
    "    \n",
    "    print('Do you want to try again? \\n[Y] Yes \\n[N] No')\n",
    "    again = input('Enter: ')\n",
    "    if again == 'N':\n",
    "        break"
   ]
  },
  {
   "cell_type": "code",
   "execution_count": 37,
   "id": "f82f371d",
   "metadata": {},
   "outputs": [
    {
     "name": "stdout",
     "output_type": "stream",
     "text": [
      "Sorted Array in Ascending Order:\n",
      "[1, 3, 4, 5, 9]\n"
     ]
    }
   ],
   "source": []
  },
  {
   "cell_type": "code",
   "execution_count": 60,
   "id": "e710f1a5",
   "metadata": {},
   "outputs": [
    {
     "name": "stdout",
     "output_type": "stream",
     "text": [
      "Median:  1.5\n"
     ]
    }
   ],
   "source": [
    "def Median(arr, siz):\n",
    "    mid = siz//2\n",
    "    if siz%2 == 0:\n",
    "        median = (arr[mid] + arr[mid+1])/2\n",
    "    else:\n",
    "        median = arr[mid]\n",
    "    return median\n",
    "# arr= [1,2,3,4,5,6]\n",
    "arr= [5,4,3,2,1,0]\n",
    "siz = len(arr)\n",
    "print('Median: ', Median(arr, siz))"
   ]
  },
  {
   "cell_type": "code",
   "execution_count": null,
   "id": "547c7ae3",
   "metadata": {},
   "outputs": [],
   "source": []
  }
 ],
 "metadata": {
  "kernelspec": {
   "display_name": "Python 3 (ipykernel)",
   "language": "python",
   "name": "python3"
  },
  "language_info": {
   "codemirror_mode": {
    "name": "ipython",
    "version": 3
   },
   "file_extension": ".py",
   "mimetype": "text/x-python",
   "name": "python",
   "nbconvert_exporter": "python",
   "pygments_lexer": "ipython3",
   "version": "3.11.1"
  }
 },
 "nbformat": 4,
 "nbformat_minor": 5
}
