{
 "cells": [
  {
   "cell_type": "code",
   "execution_count": 15,
   "id": "288da7c7",
   "metadata": {},
   "outputs": [
    {
     "name": "stdin",
     "output_type": "stream",
     "text": [
      "Enter a number:  1\n",
      "Enter a number:  3\n",
      "Enter a number:  9\n",
      "Enter a number:  5\n",
      "Enter a number:  14\n",
      "Enter a number:  29\n",
      "Enter a number:  0\n",
      "Enter a number:  2\n",
      "Enter a number:  4\n",
      "Enter a number:  8\n"
     ]
    }
   ],
   "source": [
    "\n",
    "nlist = []\n",
    "\n",
    "for i in range(10):\n",
    "    num = int(input('Enter a number: '))\n",
    "    nlist.append(num)"
   ]
  },
  {
   "cell_type": "code",
   "execution_count": 18,
   "id": "45085123",
   "metadata": {},
   "outputs": [],
   "source": [
    "def bubbleSort(nlist, size, arrange):\n",
    "    swapnum = 0\n",
    "    for passnum in range(size-1,0,-1):\n",
    "        for i in range(passnum):\n",
    "            if arrange == 1:\n",
    "                if nlist[i]>nlist[i+1]:\n",
    "                    temp = nlist[i]\n",
    "                    nlist[i] = nlist[i+1]\n",
    "                    nlist[i+1] = temp\n",
    "                    swapnum += 1\n",
    "            if arrange ==2:\n",
    "                if nlist[i]<nlist[i+1]:\n",
    "                    temp = nlist[i]\n",
    "                    nlist[i] = nlist[i+1]\n",
    "                    nlist[i+1] = temp\n",
    "                    swapnum += 1\n",
    "    return swapnum\n",
    "            \n",
    "def selectionSort(nlist, size, arrange):\n",
    "    swapnum = 0\n",
    "    for step in range(size):\n",
    "        min_idx = step\n",
    "        for i in range(step + 1, size):\n",
    "            if arrange == 1:\n",
    "                if nlist[i] < nlist[min_idx]:\n",
    "                    min_idx = i\n",
    "                    swapnum += 1\n",
    "            if arrange == 2:\n",
    "                if nlist[i] > nlist[min_idx]:\n",
    "                    min_idx = i\n",
    "                    swapnum += 1\n",
    "        (nlist[step], nlist[min_idx]) = (nlist[min_idx], nlist[step])\n",
    "    return swapnum\n",
    "\n",
    "def insertionSort(nlist, size, arrange):\n",
    "    swapnum = 0\n",
    "    for step in range(1, size):\n",
    "        key = nlist[step]\n",
    "        j = step - 1\n",
    "        if arrange == 1:\n",
    "            while j >= 0 and key < nlist[j]:\n",
    "                nlist[j + 1] = nlist[j]\n",
    "                j = j - 1\n",
    "                swapnum += 1\n",
    "        if arrange == 2:\n",
    "            while j >= 0 and key > nlist[j]:\n",
    "                nlist[j + 1] = nlist[j]\n",
    "                j = j - 1\n",
    "                swapnum += 1\n",
    "        nlist[j + 1] = key\n",
    "    return swapnum\n",
    "        \n",
    "\n",
    "\n",
    "def getMedian(nlist, size):\n",
    "    mid = size//2\n",
    "    if size%2 == 0:\n",
    "        median = (nlist[mid-1] + nlist[mid])/2\n",
    "    else:\n",
    "        median = nlist[mid]\n",
    "    return median\n",
    "def getMean(nlist, size):\n",
    "    sum = 0\n",
    "    for x in nlist:\n",
    "        sum += x\n",
    "    mean = sum / size\n",
    "    return mean"
   ]
  },
  {
   "cell_type": "code",
   "execution_count": 21,
   "id": "e710f1a5",
   "metadata": {},
   "outputs": [
    {
     "name": "stdout",
     "output_type": "stream",
     "text": [
      "\n",
      "Choose a sorting algorithm\n",
      "\n",
      "    [1] Bubble Sort\n",
      "    [2] Selection Sort\n",
      "    [3] Insertion Sort\n",
      "    [4] Exit\n",
      "    \n"
     ]
    },
    {
     "name": "stdin",
     "output_type": "stream",
     "text": [
      "Choice:  3\n"
     ]
    },
    {
     "name": "stdout",
     "output_type": "stream",
     "text": [
      "Insertion Sort\n",
      "\n",
      "    Choose an arrangement\n",
      "    [1] Ascending\n",
      "    [2] Descending\n",
      "        \n"
     ]
    },
    {
     "name": "stdin",
     "output_type": "stream",
     "text": [
      "Choice:  2\n"
     ]
    },
    {
     "name": "stdout",
     "output_type": "stream",
     "text": [
      "[29, 14, 9, 8, 5, 4, 3, 2, 1, 0]\n",
      "Number of iterations: 0\n",
      "Median:  4.5\n",
      "Mean:  7.5\n",
      "Do you want to try again? \n",
      "[Y] Yes \n",
      "[N] No\n"
     ]
    },
    {
     "name": "stdin",
     "output_type": "stream",
     "text": [
      "Enter:  Y\n"
     ]
    },
    {
     "name": "stdout",
     "output_type": "stream",
     "text": [
      "\n",
      "Choose a sorting algorithm\n",
      "\n",
      "    [1] Bubble Sort\n",
      "    [2] Selection Sort\n",
      "    [3] Insertion Sort\n",
      "    [4] Exit\n",
      "    \n"
     ]
    },
    {
     "name": "stdin",
     "output_type": "stream",
     "text": [
      "Choice:  1\n"
     ]
    },
    {
     "name": "stdout",
     "output_type": "stream",
     "text": [
      "Bubble Sort\n",
      "\n",
      "    Choose an arrangement\n",
      "    [1] Ascending\n",
      "    [2] Descending\n",
      "        \n"
     ]
    },
    {
     "name": "stdin",
     "output_type": "stream",
     "text": [
      "Choice:  1\n"
     ]
    },
    {
     "name": "stdout",
     "output_type": "stream",
     "text": [
      "[0, 1, 2, 3, 4, 5, 8, 9, 14, 29]\n",
      "Number of iterations: 45\n",
      "Median:  4.5\n",
      "Mean:  7.5\n",
      "Do you want to try again? \n",
      "[Y] Yes \n",
      "[N] No\n"
     ]
    },
    {
     "name": "stdin",
     "output_type": "stream",
     "text": [
      "Enter:  Y\n"
     ]
    },
    {
     "name": "stdout",
     "output_type": "stream",
     "text": [
      "\n",
      "Choose a sorting algorithm\n",
      "\n",
      "    [1] Bubble Sort\n",
      "    [2] Selection Sort\n",
      "    [3] Insertion Sort\n",
      "    [4] Exit\n",
      "    \n"
     ]
    },
    {
     "name": "stdin",
     "output_type": "stream",
     "text": [
      "Choice:  1\n"
     ]
    },
    {
     "name": "stdout",
     "output_type": "stream",
     "text": [
      "Bubble Sort\n",
      "\n",
      "    Choose an arrangement\n",
      "    [1] Ascending\n",
      "    [2] Descending\n",
      "        \n"
     ]
    },
    {
     "name": "stdin",
     "output_type": "stream",
     "text": [
      "Choice:  2\n"
     ]
    },
    {
     "name": "stdout",
     "output_type": "stream",
     "text": [
      "[29, 14, 9, 8, 5, 4, 3, 2, 1, 0]\n",
      "Number of iterations: 45\n",
      "Median:  4.5\n",
      "Mean:  7.5\n",
      "Do you want to try again? \n",
      "[Y] Yes \n",
      "[N] No\n"
     ]
    },
    {
     "name": "stdin",
     "output_type": "stream",
     "text": [
      "Enter:  Y\n"
     ]
    },
    {
     "name": "stdout",
     "output_type": "stream",
     "text": [
      "\n",
      "Choose a sorting algorithm\n",
      "\n",
      "    [1] Bubble Sort\n",
      "    [2] Selection Sort\n",
      "    [3] Insertion Sort\n",
      "    [4] Exit\n",
      "    \n"
     ]
    },
    {
     "name": "stdin",
     "output_type": "stream",
     "text": [
      "Choice:  2\n"
     ]
    },
    {
     "name": "stdout",
     "output_type": "stream",
     "text": [
      "Selection Sort\n",
      "\n",
      "    Choose an arrangement\n",
      "    [1] Ascending\n",
      "    [2] Descending\n",
      "        \n"
     ]
    },
    {
     "name": "stdin",
     "output_type": "stream",
     "text": [
      "Choice:  1\n"
     ]
    },
    {
     "name": "stdout",
     "output_type": "stream",
     "text": [
      "[0, 1, 2, 3, 4, 5, 8, 9, 14, 29]\n",
      "Number of iterations: 25\n",
      "Median:  4.5\n",
      "Mean:  7.5\n",
      "Do you want to try again? \n",
      "[Y] Yes \n",
      "[N] No\n"
     ]
    },
    {
     "name": "stdin",
     "output_type": "stream",
     "text": [
      "Enter:  Y\n"
     ]
    },
    {
     "name": "stdout",
     "output_type": "stream",
     "text": [
      "\n",
      "Choose a sorting algorithm\n",
      "\n",
      "    [1] Bubble Sort\n",
      "    [2] Selection Sort\n",
      "    [3] Insertion Sort\n",
      "    [4] Exit\n",
      "    \n"
     ]
    },
    {
     "name": "stdin",
     "output_type": "stream",
     "text": [
      "Choice:  2\n"
     ]
    },
    {
     "name": "stdout",
     "output_type": "stream",
     "text": [
      "Selection Sort\n",
      "\n",
      "    Choose an arrangement\n",
      "    [1] Ascending\n",
      "    [2] Descending\n",
      "        \n"
     ]
    },
    {
     "name": "stdin",
     "output_type": "stream",
     "text": [
      "Choice:  2\n"
     ]
    },
    {
     "name": "stdout",
     "output_type": "stream",
     "text": [
      "[29, 14, 9, 8, 5, 4, 3, 2, 1, 0]\n",
      "Number of iterations: 25\n",
      "Median:  4.5\n",
      "Mean:  7.5\n",
      "Do you want to try again? \n",
      "[Y] Yes \n",
      "[N] No\n"
     ]
    },
    {
     "name": "stdin",
     "output_type": "stream",
     "text": [
      "Enter:  Y\n"
     ]
    },
    {
     "name": "stdout",
     "output_type": "stream",
     "text": [
      "\n",
      "Choose a sorting algorithm\n",
      "\n",
      "    [1] Bubble Sort\n",
      "    [2] Selection Sort\n",
      "    [3] Insertion Sort\n",
      "    [4] Exit\n",
      "    \n"
     ]
    },
    {
     "name": "stdin",
     "output_type": "stream",
     "text": [
      "Choice:  2\n"
     ]
    },
    {
     "name": "stdout",
     "output_type": "stream",
     "text": [
      "Selection Sort\n",
      "\n",
      "    Choose an arrangement\n",
      "    [1] Ascending\n",
      "    [2] Descending\n",
      "        \n"
     ]
    },
    {
     "name": "stdin",
     "output_type": "stream",
     "text": [
      "Choice:  1\n"
     ]
    },
    {
     "name": "stdout",
     "output_type": "stream",
     "text": [
      "[0, 1, 2, 3, 4, 5, 8, 9, 14, 29]\n",
      "Number of iterations: 25\n",
      "Median:  4.5\n",
      "Mean:  7.5\n",
      "Do you want to try again? \n",
      "[Y] Yes \n",
      "[N] No\n"
     ]
    },
    {
     "name": "stdin",
     "output_type": "stream",
     "text": [
      "Enter:  Y\n"
     ]
    },
    {
     "name": "stdout",
     "output_type": "stream",
     "text": [
      "\n",
      "Choose a sorting algorithm\n",
      "\n",
      "    [1] Bubble Sort\n",
      "    [2] Selection Sort\n",
      "    [3] Insertion Sort\n",
      "    [4] Exit\n",
      "    \n"
     ]
    },
    {
     "name": "stdin",
     "output_type": "stream",
     "text": [
      "Choice:  3\n"
     ]
    },
    {
     "name": "stdout",
     "output_type": "stream",
     "text": [
      "Insertion Sort\n",
      "\n",
      "    Choose an arrangement\n",
      "    [1] Ascending\n",
      "    [2] Descending\n",
      "        \n"
     ]
    },
    {
     "name": "stdin",
     "output_type": "stream",
     "text": [
      "Choice:  2\n"
     ]
    },
    {
     "name": "stdout",
     "output_type": "stream",
     "text": [
      "[29, 14, 9, 8, 5, 4, 3, 2, 1, 0]\n",
      "Number of iterations: 45\n",
      "Median:  4.5\n",
      "Mean:  7.5\n",
      "Do you want to try again? \n",
      "[Y] Yes \n",
      "[N] No\n"
     ]
    },
    {
     "name": "stdin",
     "output_type": "stream",
     "text": [
      "Enter:  Y\n"
     ]
    },
    {
     "name": "stdout",
     "output_type": "stream",
     "text": [
      "\n",
      "Choose a sorting algorithm\n",
      "\n",
      "    [1] Bubble Sort\n",
      "    [2] Selection Sort\n",
      "    [3] Insertion Sort\n",
      "    [4] Exit\n",
      "    \n"
     ]
    },
    {
     "name": "stdin",
     "output_type": "stream",
     "text": [
      "Choice:  3\n"
     ]
    },
    {
     "name": "stdout",
     "output_type": "stream",
     "text": [
      "Insertion Sort\n",
      "\n",
      "    Choose an arrangement\n",
      "    [1] Ascending\n",
      "    [2] Descending\n",
      "        \n"
     ]
    },
    {
     "name": "stdin",
     "output_type": "stream",
     "text": [
      "Choice:  1\n"
     ]
    },
    {
     "name": "stdout",
     "output_type": "stream",
     "text": [
      "[0, 1, 2, 3, 4, 5, 8, 9, 14, 29]\n",
      "Number of iterations: 45\n",
      "Median:  4.5\n",
      "Mean:  7.5\n",
      "Do you want to try again? \n",
      "[Y] Yes \n",
      "[N] No\n"
     ]
    },
    {
     "name": "stdin",
     "output_type": "stream",
     "text": [
      "Enter:  Y\n"
     ]
    },
    {
     "name": "stdout",
     "output_type": "stream",
     "text": [
      "\n",
      "Choose a sorting algorithm\n",
      "\n",
      "    [1] Bubble Sort\n",
      "    [2] Selection Sort\n",
      "    [3] Insertion Sort\n",
      "    [4] Exit\n",
      "    \n"
     ]
    },
    {
     "name": "stdin",
     "output_type": "stream",
     "text": [
      "Choice:  3\n"
     ]
    },
    {
     "name": "stdout",
     "output_type": "stream",
     "text": [
      "Insertion Sort\n",
      "\n",
      "    Choose an arrangement\n",
      "    [1] Ascending\n",
      "    [2] Descending\n",
      "        \n"
     ]
    },
    {
     "name": "stdin",
     "output_type": "stream",
     "text": [
      "Choice:  2\n"
     ]
    },
    {
     "name": "stdout",
     "output_type": "stream",
     "text": [
      "[29, 14, 9, 8, 5, 4, 3, 2, 1, 0]\n",
      "Number of iterations: 45\n",
      "Median:  4.5\n",
      "Mean:  7.5\n",
      "Do you want to try again? \n",
      "[Y] Yes \n",
      "[N] No\n"
     ]
    },
    {
     "name": "stdin",
     "output_type": "stream",
     "text": [
      "Enter:  N\n"
     ]
    }
   ],
   "source": [
    "size = len(nlist)\n",
    "\n",
    "while True:\n",
    "    print('\\nChoose a sorting algorithm')\n",
    "    print('''\n",
    "    [1] Bubble Sort\n",
    "    [2] Selection Sort\n",
    "    [3] Insertion Sort\n",
    "    [4] Exit\n",
    "    ''')\n",
    "    choice = int(input('Choice: '))\n",
    "\n",
    "    if choice == 1:\n",
    "        print('Bubble Sort')\n",
    "        print('''\n",
    "    Choose an arrangement\n",
    "    [1] Ascending\n",
    "    [2] Descending\n",
    "        ''')\n",
    "        arrange = int(input('Choice: '))\n",
    "        numswaps = bubbleSort(nlist, size, arrange)\n",
    "    if choice == 2:\n",
    "        print('Selection Sort')\n",
    "        print('''\n",
    "    Choose an arrangement\n",
    "    [1] Ascending\n",
    "    [2] Descending\n",
    "        ''')\n",
    "        arrange = int(input('Choice: '))\n",
    "        numswaps = selectionSort(nlist, size, arrange)\n",
    "    if choice == 3:\n",
    "        print('Insertion Sort')\n",
    "        print('''\n",
    "    Choose an arrangement\n",
    "    [1] Ascending\n",
    "    [2] Descending\n",
    "        ''')\n",
    "        arrange = int(input('Choice: '))\n",
    "        numswaps = insertionSort(nlist, size, arrange)\n",
    "    if choice == 4:\n",
    "        print('Closing the program.')\n",
    "        break\n",
    "        \n",
    "    print(nlist)\n",
    "    print(f'Number of iterations: {numswaps}')\n",
    "    print('Median: ', getMedian(nlist, size))\n",
    "    print('Mean: ', getMean(nlist, size))\n",
    "\n",
    "    \n",
    "    print('Do you want to try again? \\n[Y] Yes \\n[N] No')\n",
    "    again = input('Enter: ')\n",
    "    if again == 'N':\n",
    "        break\n",
    "    else:\n",
    "        pass"
   ]
  },
  {
   "cell_type": "code",
   "execution_count": null,
   "id": "547c7ae3",
   "metadata": {},
   "outputs": [],
   "source": []
  }
 ],
 "metadata": {
  "kernelspec": {
   "display_name": "Python 3 (ipykernel)",
   "language": "python",
   "name": "python3"
  },
  "language_info": {
   "codemirror_mode": {
    "name": "ipython",
    "version": 3
   },
   "file_extension": ".py",
   "mimetype": "text/x-python",
   "name": "python",
   "nbconvert_exporter": "python",
   "pygments_lexer": "ipython3",
   "version": "3.12.0"
  }
 },
 "nbformat": 4,
 "nbformat_minor": 5
}
