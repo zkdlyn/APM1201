{
 "cells": [
  {
   "cell_type": "code",
   "execution_count": 2,
   "id": "866be3c6",
   "metadata": {},
   "outputs": [
    {
     "name": "stdout",
     "output_type": "stream",
     "text": [
      "FEU\n",
      "FEU\n",
      "FEU\n",
      "FEU\n"
     ]
    }
   ],
   "source": [
    "for x in range(20,0,-5):\n",
    "    print('FEU')"
   ]
  },
  {
   "cell_type": "code",
   "execution_count": 3,
   "id": "ef4d1663",
   "metadata": {},
   "outputs": [
    {
     "name": "stdout",
     "output_type": "stream",
     "text": [
      "feu\n",
      "feu\n",
      "feu\n",
      "feu\n",
      "feu\n",
      "feu\n"
     ]
    }
   ],
   "source": [
    "x=5\n",
    "while(x<=30):\n",
    "    print('feu')\n",
    "    x+=5"
   ]
  },
  {
   "cell_type": "code",
   "execution_count": 6,
   "id": "5fd35739",
   "metadata": {},
   "outputs": [
    {
     "name": "stdout",
     "output_type": "stream",
     "text": [
      "Enter a number: 92\n",
      "Enter a number: 3\n",
      "Enter a number: 4\n",
      "Enter a number: 5\n",
      "Enter a number: 6\n",
      "Enter a number: 7\n",
      "Enter a number: 5\n",
      "Enter a number: 3\n",
      "Enter a number: 2\n",
      "Enter a number: 4\n",
      "['92', '3', '4', '5', '6', '7', '5', '3', '2', '4']\n"
     ]
    }
   ],
   "source": [
    "numbers = []\n",
    "for x in range(0,10):\n",
    "    num = input('Enter a number: ')\n",
    "    numbers.append(num)\n",
    "\n",
    "print(numbers)\n"
   ]
  },
  {
   "cell_type": "code",
   "execution_count": 8,
   "id": "56229776",
   "metadata": {},
   "outputs": [
    {
     "name": "stdout",
     "output_type": "stream",
     "text": [
      "m  5 , ; o  10 , ; "
     ]
    }
   ],
   "source": [
    "n1 = 'm'\n",
    "n2 = 5\n",
    "for x in range(2):\n",
    "    print(n1, '', n2, ',',';', end=' ')\n",
    "    n1 = chr(ord(n1)+2)\n",
    "    n2 += 5"
   ]
  },
  {
   "cell_type": "code",
   "execution_count": 13,
   "id": "7d37b525",
   "metadata": {},
   "outputs": [
    {
     "name": "stdout",
     "output_type": "stream",
     "text": [
      "5  6 4  7 3  8 2  9 1  10 "
     ]
    }
   ],
   "source": [
    "y=6\n",
    "for x in range(5,0,-1):\n",
    "    print(x, '', y, end=' ' )\n",
    "    y+=1"
   ]
  },
  {
   "cell_type": "code",
   "execution_count": 16,
   "id": "1e8f8a22",
   "metadata": {},
   "outputs": [
    {
     "name": "stdout",
     "output_type": "stream",
     "text": [
      "11 8 5 2 & & & & a c e g "
     ]
    }
   ],
   "source": [
    "for x in range(11,0,-3):\n",
    "    print(x, end=' ')\n",
    "for x in range(4):\n",
    "    print('&', end=' ')\n",
    "n1 = 'a'\n",
    "for x in range(4):\n",
    "    print(n1, end=' ')\n",
    "    n1 = chr(ord(n1)+2)"
   ]
  },
  {
   "cell_type": "code",
   "execution_count": 30,
   "id": "321bd710",
   "metadata": {},
   "outputs": [
    {
     "name": "stdout",
     "output_type": "stream",
     "text": [
      "Enter a number: 15\n",
      "Enter a number: 18\n",
      "Enter a number: 9\n",
      "Enter a number: 5\n",
      "Enter a number: 12\n",
      "Enter a number: 9\n",
      "Enter a number: 6\n",
      "Enter a number: 3\n",
      "Enter a number: 4\n",
      "Enter a number: 19\n",
      "100 10.0\n",
      "0\n",
      "2\n",
      "126\n"
     ]
    }
   ],
   "source": [
    "numbers = []\n",
    "count1 = 0\n",
    "count2 = 0\n",
    "deno = 0\n",
    "nume = 0\n",
    "sum = 0\n",
    "p=1\n",
    "\n",
    "for x in range(10):\n",
    "    num = int(input('Enter a number: '))\n",
    "    sum += num\n",
    "    if num < 0:\n",
    "        count1 += 1\n",
    "    if num>=8 and num<=10:\n",
    "        count2 += 1\n",
    "    if num<12 and num!=5:\n",
    "        p*=num\n",
    "    if num%3 == 0 and num > 10:\n",
    "        nume += num\n",
    "        deno += 1\n",
    "    \n",
    "ave = sum/10\n",
    "min = p**0.5\n",
    "sub = nume/deno\n",
    "d = 3*(nume-deno)\n",
    "print(sum, ave)\n",
    "print(count1)\n",
    "print(count2)\n",
    "print(d)"
   ]
  },
  {
   "cell_type": "code",
   "execution_count": 33,
   "id": "cdbb9477",
   "metadata": {},
   "outputs": [
    {
     "name": "stdout",
     "output_type": "stream",
     "text": [
      "Number: 19\n",
      "Number: 3\n",
      "Number: 8\n",
      "Number: 6\n",
      "Number: 7\n",
      "Number: 13\n",
      "Number: 12\n",
      "Number: 15\n",
      "Number: 18\n",
      "Number: 19\n",
      "3 19 11.0\n",
      "36\n",
      "2032.296296296296\n"
     ]
    }
   ],
   "source": [
    "num = int(input('Number: '))\n",
    "S = num\n",
    "L = num\n",
    "t23 = 0\n",
    "nume = 0\n",
    "deno = 0\n",
    "if num%2==0 and num%3==0:\n",
    "    t23 += num\n",
    "if num%2==1:\n",
    "    nume+=num\n",
    "    deno+=1\n",
    "for x in range(9):\n",
    "    num = int(input('Number: '))\n",
    "    if num > L:\n",
    "        L = num\n",
    "    if num < S:\n",
    "        S = num\n",
    "    if num%2==0 and num%3==0:\n",
    "        t23 += num\n",
    "    if num%2==1:\n",
    "        nume+=num\n",
    "        deno+=1\n",
    "if deno!=0:\n",
    "    c = (nume/deno)**3\n",
    "else:\n",
    "    c=0\n",
    "    \n",
    "ave = (L+S)/2\n",
    "print(S, L, ave)\n",
    "print(t23)\n",
    "print(c)"
   ]
  },
  {
   "cell_type": "code",
   "execution_count": null,
   "id": "b6ef2838",
   "metadata": {},
   "outputs": [],
   "source": []
  }
 ],
 "metadata": {
  "kernelspec": {
   "display_name": "Python 3 (ipykernel)",
   "language": "python",
   "name": "python3"
  },
  "language_info": {
   "codemirror_mode": {
    "name": "ipython",
    "version": 3
   },
   "file_extension": ".py",
   "mimetype": "text/x-python",
   "name": "python",
   "nbconvert_exporter": "python",
   "pygments_lexer": "ipython3",
   "version": "3.11.1"
  }
 },
 "nbformat": 4,
 "nbformat_minor": 5
}
