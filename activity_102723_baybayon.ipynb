{
 "cells": [
  {
   "cell_type": "markdown",
   "id": "aafe414f",
   "metadata": {},
   "source": [
    "Maps(Use map() function and lambda) - Please refer to the link in modules section:\n",
    "\n",
    "Write a Python program to add two given lists and find the difference between lists.  \n",
    "Write a Python program to triple all numbers of a given list of integers.\n",
    "Trees:\n",
    "\n",
    "Based on the PPT in modules section, create your own program for full binary tree, perfect binary tree, complete binary tree, and balanced binary tree."
   ]
  },
  {
   "cell_type": "markdown",
   "id": "a579a958",
   "metadata": {},
   "source": [
    "Write a Python program to add two given lists and find the difference between lists."
   ]
  },
  {
   "cell_type": "code",
   "execution_count": 1,
   "id": "16f6a350",
   "metadata": {},
   "outputs": [
    {
     "name": "stdout",
     "output_type": "stream",
     "text": [
      "FUNCTION\n",
      "The sum of the numbers: \n",
      "[3, 9, 9, 15, 9]\n",
      "The difference of the numbers: \n",
      "[-1, -3, 1, -1, 9]\n"
     ]
    }
   ],
   "source": [
    "num1 = (1, 3, 5, 7, 9)\n",
    "num2 = (2, 6, 4, 8, 0)\n",
    "print('FUNCTION')\n",
    "def add(x,y):\n",
    "    return x+y\n",
    "\n",
    "def minus(x,y):\n",
    "    return x-y\n",
    "addition = map(add, num1, num2)\n",
    "subtraction = map(minus, num1, num2)\n",
    "summ = list(addition)\n",
    "difference = list(subtraction)\n",
    "\n",
    "print('The sum of the numbers: ')\n",
    "print(summ)\n",
    "\n",
    "print('The difference of the numbers: ')\n",
    "print(difference)"
   ]
  },
  {
   "cell_type": "code",
   "execution_count": 2,
   "id": "b6ede266",
   "metadata": {},
   "outputs": [
    {
     "name": "stdout",
     "output_type": "stream",
     "text": [
      "LAMBDA\n",
      "The sum of the numbers: \n",
      "[3, 9, 9, 15, 9]\n",
      "The difference of the numbers: \n",
      "[-1, -3, 1, -1, 9]\n"
     ]
    }
   ],
   "source": [
    "# numbers = (1, 2, 3, 4)\n",
    "# result = map(lambda x: x*x, numbers)\n",
    "# print(result)\n",
    "\n",
    "num1 = (1, 3, 5, 7, 9)\n",
    "num2 = (2, 6, 4, 8, 0)\n",
    "print('LAMBDA')\n",
    "\n",
    "addition = map(lambda x, y: x+y,  num1, num2)\n",
    "subtraction = map(lambda x, y: x-y, num1, num2)\n",
    "summ = list(addition)\n",
    "difference = list(subtraction)\n",
    "\n",
    "print('The sum of the numbers: ')\n",
    "print(summ)\n",
    "\n",
    "print('The difference of the numbers: ')\n",
    "print(difference)"
   ]
  },
  {
   "cell_type": "markdown",
   "id": "0d02c86d",
   "metadata": {},
   "source": [
    "Write a Python program to triple all numbers of a given list of integers."
   ]
  },
  {
   "cell_type": "code",
   "execution_count": 5,
   "id": "6015152c",
   "metadata": {},
   "outputs": [
    {
     "name": "stdout",
     "output_type": "stream",
     "text": [
      "FUNCTION\n",
      "[3, 6, 9, 12, 15]\n",
      "LAMBDA\n",
      "[3, 6, 9, 12, 15]\n"
     ]
    }
   ],
   "source": [
    "numbers = (1,2,3,4,5)\n",
    "print('FUNCTION')\n",
    "def triple(x):\n",
    "    return x * 3\n",
    "tripler = map(triple, numbers)\n",
    "result = list (tripler)\n",
    "\n",
    "print(result)\n",
    "\n",
    "print('LAMBDA')\n",
    "result = map(lambda x: x*3, numbers)\n",
    "print(list(result))"
   ]
  },
  {
   "cell_type": "markdown",
   "id": "01e62823",
   "metadata": {},
   "source": [
    "Based on the PPT in modules section, create your own program for full binary tree, perfect binary tree, complete binary tree, and balanced binary tree."
   ]
  },
  {
   "cell_type": "code",
   "execution_count": 54,
   "id": "fdd2e344",
   "metadata": {},
   "outputs": [
    {
     "name": "stdout",
     "output_type": "stream",
     "text": [
      "The tree is a full binary tree\n"
     ]
    }
   ],
   "source": [
    "# FULL BINARY - TWO  OR NO CHILDREN\n",
    "# Creating a node\n",
    "class Node:\n",
    "    def __init__(self, item):\n",
    "        self.item = item\n",
    "        self.left = None\n",
    "        self.right = None\n",
    "# Checking full binary tree\n",
    "def isFullTree(root):\n",
    "    # Tree empty case\n",
    "    if root is None:\n",
    "        return True\n",
    "    # Checking whether child is present\n",
    "    if root.left is None and root.right is None:\n",
    "        return True\n",
    "    if root.left is not None and root.right is not None:\n",
    "        return (isFullTree(root.left) and isFullTree(root.right))\n",
    "    return False\n",
    "\n",
    "root = Node(1)\n",
    "root.right = Node(12)\n",
    "root.left = Node(5)\n",
    "root.left.left = Node(3)\n",
    "root.left.right = Node(9)\n",
    "root.left.right.left = Node(0)\n",
    "root.left.right.right = Node(7)\n",
    "root.left.left.right = Node(3)\n",
    "root.left.left.left = Node(8)\n",
    "\n",
    "\n",
    "if isFullTree(root):\n",
    "    print(\"The tree is a full binary tree\")\n",
    "else:\n",
    "    print(\"The tree is not a full binary tree\")\n"
   ]
  },
  {
   "cell_type": "code",
   "execution_count": 55,
   "id": "dc948ca1",
   "metadata": {},
   "outputs": [
    {
     "name": "stdout",
     "output_type": "stream",
     "text": [
      "The tree is a perfect binary tree\n"
     ]
    }
   ],
   "source": [
    "#PERFECT BINARY - exactly 2 children and leaf nodes at same level\n",
    "\n",
    "# Calculate the depth\n",
    "def calculateDepth(node):\n",
    "    d = 0\n",
    "    while (node is not None):\n",
    "        d += 1\n",
    "        node = node.left\n",
    "    return d\n",
    "# Check if the tree is perfect binary tree\n",
    "def is_perfect(root, d, level=0):\n",
    "    # Check if the tree is empty\n",
    "    if (root is None):\n",
    "        return True\n",
    "    # Check the presence of trees\n",
    "    if (root.left is None and root.right is None):\n",
    "        return (d == level + 1)\n",
    "    if (root.left is None or root.right is None):\n",
    "        return False\n",
    "    return (is_perfect(root.left, d, level + 1) and is_perfect(root.right, d, level + 1))\n",
    "\n",
    "root = None\n",
    "root = Node(1)\n",
    "root.left = Node(2)\n",
    "root.right = Node(3)\n",
    "root.left.left = Node(4)\n",
    "root.left.right = Node(5)\n",
    "root.right.left = Node(6)\n",
    "root.right.right = Node(7)\n",
    "root.left.left.left = Node(8)\n",
    "root.left.left.right = Node(9)\n",
    "root.left.right.left = Node(0)\n",
    "root.left.right.right = Node(1)\n",
    "root.right.left.left = Node(8)\n",
    "root.right.left.right = Node(9)\n",
    "root.right.right.left = Node(0)\n",
    "root.right.right.right = Node(1)\n",
    "\n",
    "\n",
    "\n",
    "if (is_perfect(root, calculateDepth(root))):\n",
    "    print(\"The tree is a perfect binary tree\" )\n",
    "else:\n",
    "    print(\"The tree is not a perfect binary tree\" )\n"
   ]
  },
  {
   "cell_type": "code",
   "execution_count": 56,
   "id": "db73c6ca",
   "metadata": {},
   "outputs": [
    {
     "name": "stdout",
     "output_type": "stream",
     "text": [
      "The tree is a complete binary tree\n"
     ]
    }
   ],
   "source": [
    "# COMPLETE BINARY\n",
    "\n",
    "# Count the number of nodes\n",
    "def count_nodes(root):\n",
    "    if root is None:\n",
    "        return 0\n",
    "    return (1 + count_nodes(root.left) + count_nodes(root.right))\n",
    "# Check if the tree is complete binary tree\n",
    "def is_complete(root, index, numberNodes):\n",
    "    # Check if the tree is empty\n",
    "    if root is None:\n",
    "        return True\n",
    "    if index >= numberNodes:\n",
    "        return False\n",
    "    return (is_complete(root.left, 2 * index + 1, numberNodes) and is_complete(root.right, 2 * index + 2, numberNodes))\n",
    "root = Node(1)\n",
    "root.left = Node(2)\n",
    "root.right = Node(3)\n",
    "root.left.left = Node(4)\n",
    "root.left.right = Node(5)\n",
    "root.right.left = Node(6)\n",
    "root.right.right = Node(7)\n",
    "root.left.left.left = Node(9)\n",
    "root.left.left.right = Node(5)\n",
    "root.left.right.left = Node(3)\n",
    "\n",
    "\n",
    "node_count = count_nodes(root)\n",
    "index = 0\n",
    "if is_complete(root, index, node_count):\n",
    "    print(\"The tree is a complete binary tree\")\n",
    "else:\n",
    "    print(\"The tree is not a complete binary tree\")\n",
    "\n"
   ]
  },
  {
   "cell_type": "code",
   "execution_count": 57,
   "id": "9c9292ef",
   "metadata": {},
   "outputs": [
    {
     "name": "stdout",
     "output_type": "stream",
     "text": [
      "The tree is balanced\n"
     ]
    }
   ],
   "source": [
    "# BALANCED BINARY\n",
    "\n",
    "class Height:\n",
    "    def __init__(self):\n",
    "        self.height = 0\n",
    "def isHeightBalanced(root, height):\n",
    "    left_height = Height()\n",
    "    right_height = Height()\n",
    "    \n",
    "    if root is None:\n",
    "        return True\n",
    "    l = isHeightBalanced(root.left, left_height)\n",
    "    r = isHeightBalanced(root.right, right_height)\n",
    "    \n",
    "    height.height = max(left_height.height, right_height.height) + 1\n",
    "    if abs(left_height.height - right_height.height) <= 1:\n",
    "        return l and r\n",
    "    return False\n",
    "\n",
    "height = Height()\n",
    "root = Node(1)\n",
    "root.left = Node(2)\n",
    "root.right = Node(3)\n",
    "root.left.left = Node(4)\n",
    "root.left.right = Node(5)\n",
    "root.left.left.right = Node(8)\n",
    "root.right.left = Node(1)\n",
    "\n",
    "if isHeightBalanced(root,height):\n",
    "    print('The tree is balanced')\n",
    "else:\n",
    "    print('The tree is not balanced')"
   ]
  },
  {
   "cell_type": "code",
   "execution_count": null,
   "id": "53984c6f",
   "metadata": {},
   "outputs": [],
   "source": [
    "end = input()"
   ]
  }
 ],
 "metadata": {
  "kernelspec": {
   "display_name": "Python 3 (ipykernel)",
   "language": "python",
   "name": "python3"
  },
  "language_info": {
   "codemirror_mode": {
    "name": "ipython",
    "version": 3
   },
   "file_extension": ".py",
   "mimetype": "text/x-python",
   "name": "python",
   "nbconvert_exporter": "python",
   "pygments_lexer": "ipython3",
   "version": "3.11.1"
  }
 },
 "nbformat": 4,
 "nbformat_minor": 5
}
