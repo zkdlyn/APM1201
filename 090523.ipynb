{
 "cells": [
  {
   "cell_type": "code",
   "execution_count": 45,
   "id": "2df2b826",
   "metadata": {},
   "outputs": [
    {
     "name": "stdout",
     "output_type": "stream",
     "text": [
      "[1, 2, 3, 4, 5, 6, 7, 8, 9, 10]\n",
      "[2, 1, 4, 3, 6, 5, 8, 7, 10, 9]\n",
      "[9, 10, 7, 8, 5, 6, 3, 4, 1, 2]\n",
      "[(-0.9999999999999998+2.8284271247461903j), (-0.2499999999999998+3.152380053229623j), (-0.6666666666666664+3.464101615137755j), (-0.37499999999999967+5.644410952437818j), (-0.5999999999999995+7.1302173879903545j), (-0.41666666666666585+13.05729893797165j), (-0.5714285714285705+15.825579913287118j), (-0.43749999999999806+31.997009137574093j), (-0.5555555555555538+28.439018579722084j), (-0.44999999999999557+72.40633604871883j)]\n",
      "[9, 10, 7, 8, 5, 6, 3, 4, 1, 2]\n"
     ]
    }
   ],
   "source": [
    "import numpy as np\n",
    "A = [1,2,3,4,5,6,7,8,9,10]\n",
    "B = [0]*10\n",
    "C = []\n",
    "D = []\n",
    "E = []\n",
    "# for x in range(10):\n",
    "#     n= int(input('Enter a number: '))\n",
    "#     A.append(n)\n",
    "y=0\n",
    "z=0\n",
    "for x in range(0,10,2):\n",
    "    B[x] = A[x+1]\n",
    "    B[x+1] = A[x]\n",
    "\n",
    "# for x in range(9,-1,-1):\n",
    "#     C.append(B[x])\n",
    "C=B[::-1]\n",
    "\n",
    "for x in range(10):\n",
    "    n = (-B[x] + ((B[x])**2-(4**A[x]*C[x]))**0.5)/(2*A[x])\n",
    "    D.append(n)\n",
    "n=4\n",
    "\n",
    "for x in range(5):\n",
    "    E.append(C[n])\n",
    "    n-=1\n",
    "for x in range(5,10):\n",
    "    E.append(B[x])\n",
    "    \n",
    "E=C[::]\n",
    "print(A)\n",
    "print(B)\n",
    "print(C)\n",
    "print(D)\n",
    "print(E)\n"
   ]
  },
  {
   "cell_type": "code",
   "execution_count": 13,
   "id": "b3ca8a2d",
   "metadata": {},
   "outputs": [
    {
     "name": "stdout",
     "output_type": "stream",
     "text": [
      "[2, 1, 4, 3, 6, 5, 8, 7]\n"
     ]
    }
   ],
   "source": [
    "A = [1,2,3,4,5,6,7,8,9,10]\n",
    "B = []\n",
    "C = []\n",
    "D = []\n",
    "E = []\n",
    "x=1\n",
    "while x!=9:\n",
    "    B.append(A[x])\n",
    "    if x%2==0:\n",
    "        x= x+3\n",
    "    else:\n",
    "        x=x-1\n",
    "print(B)"
   ]
  },
  {
   "cell_type": "code",
   "execution_count": null,
   "id": "5abfeef4",
   "metadata": {},
   "outputs": [],
   "source": [
    "R = int(input('Number of rows: '))\n",
    "C = int(input('Number of rows: '))\n",
    "\n",
    "matrix = []\n",
    "print('Enter the entries: ')\n"
   ]
  }
 ],
 "metadata": {
  "kernelspec": {
   "display_name": "Python 3 (ipykernel)",
   "language": "python",
   "name": "python3"
  },
  "language_info": {
   "codemirror_mode": {
    "name": "ipython",
    "version": 3
   },
   "file_extension": ".py",
   "mimetype": "text/x-python",
   "name": "python",
   "nbconvert_exporter": "python",
   "pygments_lexer": "ipython3",
   "version": "3.11.1"
  }
 },
 "nbformat": 4,
 "nbformat_minor": 5
}
