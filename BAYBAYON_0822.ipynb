{
 "cells": [
  {
   "cell_type": "markdown",
   "id": "ddb5f71b",
   "metadata": {},
   "source": [
    "input region, time, duration of call"
   ]
  },
  {
   "cell_type": "code",
   "execution_count": 15,
   "id": "c8f07514",
   "metadata": {},
   "outputs": [
    {
     "name": "stdout",
     "output_type": "stream",
     "text": [
      "--------------\n",
      "Where would you like to make a call to? \n",
      "1 - Asia\n",
      "2 - Europe\n",
      "3 - Australia\n",
      "4 - North America\n",
      "5 - South America\n",
      "6 - Africa\n",
      "                   \n",
      "Please enter the corresponding digit:\n",
      "2\n",
      "--------------\n",
      "\n",
      "Time of call:\n",
      "1 - Day\n",
      "2 - Night\n",
      "\n",
      "Please enter the corresponding digit:\n",
      "2\n",
      "--------------\n",
      "\n",
      "Enter duration of call (in minutes):  \n",
      "10\n",
      "The total fee for the call is Php 65\n",
      "Thank you for using our service!\n"
     ]
    }
   ],
   "source": [
    "print('--------------')\n",
    "\n",
    "region = int(input('''Where would you like to make a call to? \n",
    "1 - Asia\n",
    "2 - Europe\n",
    "3 - Australia\n",
    "4 - North America\n",
    "5 - South America\n",
    "6 - Africa\n",
    "                   \\nPlease enter the corresponding digit:\n",
    "'''))\n",
    "print('--------------')\n",
    "time = int(input('''\\nTime of call:\n",
    "1 - Day\n",
    "2 - Night\n",
    "\\nPlease enter the corresponding digit:\n",
    "'''))\n",
    "print('--------------')\n",
    "duration = int(input('''\\nEnter duration of call (in minutes):  \n",
    "'''))\n",
    "\n",
    "\n",
    "fee = 10\n",
    "if region == 1 or region == 3:\n",
    "    fee = fee + 5\n",
    "elif region == 4 or region == 5:\n",
    "    fee = fee + 10\n",
    "elif region == 2 or region == 6:\n",
    "    fee = fee + 15\n",
    "\n",
    "if time == 2:\n",
    "    fee = fee + 5\n",
    "\n",
    "if duration >= 1:\n",
    "    fee = fee + 5\n",
    "    if duration >= 5:\n",
    "        fee = fee + 10\n",
    "        if duration >= 10:\n",
    "            fee = fee + 20\n",
    "print(f'The total fee for the call is Php {fee}')\n",
    "print(f'Thank you for using our service!')"
   ]
  },
  {
   "cell_type": "code",
   "execution_count": null,
   "id": "595c3d62",
   "metadata": {},
   "outputs": [],
   "source": [
    "yr = int(input('Year: '))\n",
    "mon = int(input('Month: '))\n",
    "day = int(input('Day: '))\n",
    "\n",
    "\n"
   ]
  },
  {
   "cell_type": "code",
   "execution_count": 14,
   "id": "ead78d1b",
   "metadata": {},
   "outputs": [
    {
     "name": "stdout",
     "output_type": "stream",
     "text": [
      "Enter year: 2002\n",
      "Enter month: 8\n",
      "    August 2002\n",
      "Mo Tu We Th Fr Sa Su\n",
      "          1  2  3  4\n",
      " 5  6  7  8  9 10 11\n",
      "12 13 14 15 16 17 18\n",
      "19 20 21 22 23 24 25\n",
      "26 27 28 29 30 31\n",
      "\n"
     ]
    }
   ],
   "source": [
    "import calendar\n",
    "\n",
    "\n",
    "#To take month and year input from the user\n",
    "yy = int(input(\"Enter year: \"))\n",
    "mm = int(input(\"Enter month: \"))\n",
    "\n",
    "# display the calendar\n",
    "print(calendar.month(yy, mm))"
   ]
  }
 ],
 "metadata": {
  "kernelspec": {
   "display_name": "Python 3 (ipykernel)",
   "language": "python",
   "name": "python3"
  },
  "language_info": {
   "codemirror_mode": {
    "name": "ipython",
    "version": 3
   },
   "file_extension": ".py",
   "mimetype": "text/x-python",
   "name": "python",
   "nbconvert_exporter": "python",
   "pygments_lexer": "ipython3",
   "version": "3.11.1"
  }
 },
 "nbformat": 4,
 "nbformat_minor": 5
}
