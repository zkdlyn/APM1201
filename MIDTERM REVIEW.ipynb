{
 "cells": [
  {
   "cell_type": "markdown",
   "id": "3191b23e",
   "metadata": {},
   "source": [
    "### 1D Arrays"
   ]
  },
  {
   "cell_type": "code",
   "execution_count": 32,
   "id": "00884780",
   "metadata": {},
   "outputs": [
    {
     "name": "stdout",
     "output_type": "stream",
     "text": [
      "1\n",
      "2\n",
      "3\n",
      "4\n",
      "5\n",
      "6\n",
      "7\n",
      "8\n",
      "9\n",
      "10\n",
      "[1, 2, 3, 4, 5, 6, 7, 8, 9, 10]\n"
     ]
    }
   ],
   "source": [
    "a=[]\n",
    "b=[]\n",
    "c=[]\n",
    "d=[]\n",
    "e=[]\n",
    "#fill-up A\n",
    "for x in range (10):\n",
    "    n=int(input())\n",
    "    a.append(n)\n",
    "print(a)\n"
   ]
  },
  {
   "cell_type": "code",
   "execution_count": 33,
   "id": "6b974c40",
   "metadata": {},
   "outputs": [
    {
     "name": "stdout",
     "output_type": "stream",
     "text": [
      "[2, 1, 4, 3, 6, 5, 8, 7, 10, 9]\n"
     ]
    }
   ],
   "source": [
    "#fill-up B\n",
    "for x in range (10):\n",
    "    if x%2 == 0:\n",
    "        b.append(a[x+1])\n",
    "    else:\n",
    "        b.append(a[x-1])\n",
    "print(b)"
   ]
  },
  {
   "cell_type": "code",
   "execution_count": 37,
   "id": "369b88e2",
   "metadata": {},
   "outputs": [
    {
     "name": "stdout",
     "output_type": "stream",
     "text": [
      "[9, 10, 7, 8, 5, 6, 3, 4, 1, 2]\n"
     ]
    }
   ],
   "source": [
    "#fill-up C\n",
    "# c=b\n",
    "# c.reverse()\n",
    "# print(c)\n",
    "c=b\n",
    "c=c[::-1]\n",
    "print(c)"
   ]
  },
  {
   "cell_type": "code",
   "execution_count": 38,
   "id": "fa6dc453",
   "metadata": {},
   "outputs": [
    {
     "name": "stdout",
     "output_type": "stream",
     "text": [
      "[(-0.9999999999999998+2.8284271247461903j), (-0.24999999999999986+2.222048604328897j), (-0.6666666666666666+1.3743685418725535j), (-0.3749999999999999+1.3635890143294642j), (-0.5999999999999999+0.8j), (-0.4166666666666666+0.9090593428863095j), (-0.5714285714285714+0.31943828249996997j), (-0.43749999999999994+0.5555121510822243j), -0.1111111111111111, -0.4]\n"
     ]
    }
   ],
   "source": [
    "#fill-up D\n",
    "for x in range (10):\n",
    "    m=(-(b[x])+((b[x])**2-4*a[x]*c[x])**(1/2))/(2*a[x])\n",
    "#     m = (-b[x] + ((b[x])**2-(4**a[x]*c[x]))**0.5)/(2*a[x])\n",
    "    d.append(m)\n",
    "print(d)"
   ]
  },
  {
   "cell_type": "code",
   "execution_count": 39,
   "id": "e42a1575",
   "metadata": {},
   "outputs": [
    {
     "name": "stdout",
     "output_type": "stream",
     "text": [
      "[5, 8, 7, 10, 9, 5, 8, 7, 10, 9]\n"
     ]
    }
   ],
   "source": [
    "#fill-up E\n",
    "n=4\n",
    "for x in range (5):\n",
    "    e.append(c[n])\n",
    "    n-=1\n",
    "for x in range(5,10):\n",
    "    e.append(b[x])\n",
    "print(e)"
   ]
  },
  {
   "cell_type": "markdown",
   "id": "fca11130",
   "metadata": {},
   "source": [
    "### 2D Arrays"
   ]
  },
  {
   "cell_type": "code",
   "execution_count": 2,
   "id": "e9de7543",
   "metadata": {},
   "outputs": [
    {
     "name": "stdout",
     "output_type": "stream",
     "text": [
      "A:\n",
      "1\n",
      "2\n",
      "3\n",
      "4\n",
      "5\n",
      "6\n",
      "7\n",
      "8\n",
      "9\n",
      "1 2 3 \n",
      "4 5 6 \n",
      "7 8 9 \n"
     ]
    }
   ],
   "source": [
    "print(\"A:\")\n",
    "A=[]\n",
    "for i in range(3):\n",
    "    a=[]\n",
    "    for j in range(3):\n",
    "        a.append(int(input()))\n",
    "    A.append(a)\n",
    "for i in range (3):\n",
    "    for j in range (3):\n",
    "        print(A[i][j], end=\" \")\n",
    "    print()"
   ]
  },
  {
   "cell_type": "code",
   "execution_count": 10,
   "id": "35727aa8",
   "metadata": {},
   "outputs": [
    {
     "name": "stdout",
     "output_type": "stream",
     "text": [
      "\n",
      "B:\n",
      "10\n",
      "20\n",
      "30\n",
      "40\n",
      "50\n",
      "60\n",
      "70\n",
      "80\n",
      "90\n",
      "10 20 30 \n",
      "40 50 60 \n",
      "70 80 90 \n"
     ]
    }
   ],
   "source": [
    "print(\"\\nB:\")\n",
    "B=[]\n",
    "for i in range(3):\n",
    "    a=[]\n",
    "    for j in range(3):\n",
    "        a.append(int(input()))\n",
    "    B.append(a)\n",
    "for i in range (3):\n",
    "    for j in range (3):\n",
    "        print(B[i][j], end=\" \")\n",
    "    print()"
   ]
  },
  {
   "cell_type": "code",
   "execution_count": 11,
   "id": "a0abaf0c",
   "metadata": {},
   "outputs": [
    {
     "name": "stdout",
     "output_type": "stream",
     "text": [
      "\n",
      "Transposed A:\n",
      "1 4 7 \n",
      "2 5 8 \n",
      "3 6 9 \n",
      "\n",
      "Transposed B:\n",
      "10 40 70 \n",
      "20 50 80 \n",
      "30 60 90 \n"
     ]
    }
   ],
   "source": [
    "print(\"\\nTransposed A:\")\n",
    "TA = []\n",
    "for i in range (3):\n",
    "    a=[]\n",
    "    for j in range (3):\n",
    "        t=A[j][i]\n",
    "        a.append(t)\n",
    "    TA.append(a)\n",
    "for i in range(3):\n",
    "    for j in range(3):\n",
    "        print(TA[i][j], end=\" \")\n",
    "    print()\n",
    "\n",
    "print(\"\\nTransposed B:\")\n",
    "TB = []\n",
    "for i in range (3):\n",
    "    a=[]\n",
    "    for j in range (3):\n",
    "        t=B[j][i]\n",
    "        a.append(t)\n",
    "    TB.append(a)\n",
    "for i in range(3):\n",
    "    for j in range(3):\n",
    "        print(TB[i][j], end=\" \")\n",
    "    print()"
   ]
  },
  {
   "cell_type": "code",
   "execution_count": 12,
   "id": "3aa58531",
   "metadata": {},
   "outputs": [
    {
     "name": "stdout",
     "output_type": "stream",
     "text": [
      "\n",
      "C:\n",
      "25 90 155 \n",
      "60 125 190 \n",
      "95 160 225 \n",
      "\n",
      "\n",
      "Transposed C:\n",
      "25 60 95 \n",
      "90 125 160 \n",
      "155 190 225 \n"
     ]
    }
   ],
   "source": [
    "# C = 2TB + 5A; \n",
    "print(\"\\nC:\")\n",
    "C=[]\n",
    "for i in range (3):\n",
    "    a=[]\n",
    "    for j in range (3):\n",
    "        c=2*TB[i][j]+5*A[i][j]\n",
    "        a.append(c)\n",
    "    C.append(a)\n",
    "for i in range (3):\n",
    "    for j in range (3):\n",
    "        print(C[i][j], end = \" \")\n",
    "    print()\n",
    "print()\n",
    "\n",
    "print(\"\\nTransposed C:\")\n",
    "TC = []\n",
    "for i in range (3):\n",
    "    a=[]\n",
    "    for j in range (3):\n",
    "        t=C[j][i]\n",
    "        a.append(t)\n",
    "    TC.append(a)\n",
    "for i in range(3):\n",
    "    for j in range(3):\n",
    "        print(TC[i][j], end=\" \")\n",
    "    print()"
   ]
  },
  {
   "cell_type": "code",
   "execution_count": 16,
   "id": "c586dec1",
   "metadata": {},
   "outputs": [
    {
     "name": "stdout",
     "output_type": "stream",
     "text": [
      "\n",
      "D:\n",
      "28 52 76 \n",
      "116 140 164 \n",
      "204 228 252 \n",
      "\n",
      "Transposed D:\n",
      "28 116 204 \n",
      "52 140 228 \n",
      "76 164 252 \n"
     ]
    }
   ],
   "source": [
    "# D = (TC + B) - 7TA; \n",
    "print(\"\\nD:\")\n",
    "D=[]\n",
    "for i in range(3):\n",
    "    a= []\n",
    "    for j in range(3):\n",
    "        d=((TC[i][j] + B[i][j]) - 7*TA[i][j])\n",
    "        a.append(d)\n",
    "    D.append(a)\n",
    "for i in range(3):\n",
    "    for j in range(3):\n",
    "        print(D[i][j], end=' ')\n",
    "    print()\n",
    "\n",
    "print(\"\\nTransposed D:\")\n",
    "TD=[]\n",
    "for i in range(3):\n",
    "    a=[]\n",
    "    for j in range(3):\n",
    "        t = D[j][i]\n",
    "        a.append(t)\n",
    "    TD.append(a)\n",
    "for i in range(3):\n",
    "    for j in range(3):\n",
    "        print(TD[i][j], end=\" \")\n",
    "    print()  "
   ]
  },
  {
   "cell_type": "code",
   "execution_count": 27,
   "id": "7773c1e6",
   "metadata": {},
   "outputs": [
    {
     "name": "stdout",
     "output_type": "stream",
     "text": [
      "3882 46125 134832 \n",
      "10795 65710 167089 \n",
      "21164 88751 202802 \n"
     ]
    }
   ],
   "source": [
    "# E = 3(8 + TD)**(2) + TA - 7;\n",
    "E=[]\n",
    "for i in range(3):\n",
    "    a=[]\n",
    "    for j in range(3):\n",
    "        e=(3*(8 + TD[i][j])**(2) + (TA[i][j] - 7))\n",
    "        a.append(e)\n",
    "    E.append(a)\n",
    "for i in range(3):\n",
    "    for j in range(3):\n",
    "        print(E[i][j], end= ' ')\n",
    "    print()"
   ]
  },
  {
   "cell_type": "markdown",
   "id": "862e626d",
   "metadata": {},
   "source": [
    "### Sets"
   ]
  },
  {
   "cell_type": "code",
   "execution_count": null,
   "id": "f3d135a7",
   "metadata": {},
   "outputs": [],
   "source": []
  }
 ],
 "metadata": {
  "kernelspec": {
   "display_name": "Python 3 (ipykernel)",
   "language": "python",
   "name": "python3"
  },
  "language_info": {
   "codemirror_mode": {
    "name": "ipython",
    "version": 3
   },
   "file_extension": ".py",
   "mimetype": "text/x-python",
   "name": "python",
   "nbconvert_exporter": "python",
   "pygments_lexer": "ipython3",
   "version": "3.11.1"
  }
 },
 "nbformat": 4,
 "nbformat_minor": 5
}
