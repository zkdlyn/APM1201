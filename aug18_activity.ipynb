{
 "cells": [
  {
   "cell_type": "markdown",
   "id": "dbbc4511",
   "metadata": {},
   "source": [
    "Create a program that will input 5 quizzes, 2 assignments, 2 seatworks, 1 major exam. Then compute and print the equivalent grade.\n",
    "\n",
    "Computation:\n",
    "\n",
    "AQ=average of all the quizzes\n",
    "\n",
    "CS=average of all assignments and seatworks.\n",
    "\n",
    "Grade= 50% of major exam + 40% of AQ + 10% of CS"
   ]
  },
  {
   "cell_type": "code",
   "execution_count": 3,
   "id": "724940d4",
   "metadata": {},
   "outputs": [
    {
     "name": "stdout",
     "output_type": "stream",
     "text": [
      "Enter score for Quiz 1: 90\n",
      "Enter score for Quiz 2: 96\n",
      "Enter score for Quiz 3: 80\n",
      "Enter score for Quiz 4: 98\n",
      "Enter score for Quiz 5: 100\n",
      "The average quiz score attained is: 92.8\n"
     ]
    }
   ],
   "source": [
    "quizzes = []\n",
    "\n",
    "x = 1\n",
    "\n",
    "while x <= 5:\n",
    "    quiz_score = int(input(f'Enter score for Quiz {x}: '))\n",
    "    quizzes.append(quiz_score)\n",
    "    x = x + 1\n",
    "\n",
    "quiz_total = 0\n",
    "\n",
    "for score in quizzes:\n",
    "    quiz_total = quiz_total + score\n",
    "AQ = quiz_total/len(quizzes)\n",
    "    \n",
    "print(f'The average quiz score attained is: {AQ}')\n"
   ]
  },
  {
   "cell_type": "code",
   "execution_count": 4,
   "id": "51ac5eae",
   "metadata": {
    "scrolled": true
   },
   "outputs": [
    {
     "name": "stdout",
     "output_type": "stream",
     "text": [
      "Enter score for Assignment 1: 86\n",
      "Enter score for Assignment 2: 94\n",
      "Enter score for Seatwork 1: 89\n",
      "Enter score for Seatwork 2: 92\n",
      "The average score attained from assignments and seatworks is: 90.25\n"
     ]
    }
   ],
   "source": [
    "assignments = []\n",
    "seatworks = []\n",
    "x = 1\n",
    "\n",
    "while x<=2:\n",
    "    assgn_score = int(input(f'Enter score for Assignment {x}: '))\n",
    "    assignments.append(assgn_score)\n",
    "    x = x + 1\n",
    "\n",
    "x = 1\n",
    "while x<=2:\n",
    "    sw_score = int(input(f'Enter score for Seatwork {x}: '))\n",
    "    seatworks.append(sw_score)\n",
    "    x = x + 1\n",
    "\n",
    "cs_total = 0\n",
    "cs_list = assignments + seatworks\n",
    "for score in cs_list:\n",
    "    cs_total = cs_total + score\n",
    "\n",
    "CS = cs_total/len(cs_list)\n",
    "print(f'The average score attained from assignments and seatworks is: {CS}')\n"
   ]
  },
  {
   "cell_type": "code",
   "execution_count": 5,
   "id": "b6070727",
   "metadata": {},
   "outputs": [
    {
     "name": "stdout",
     "output_type": "stream",
     "text": [
      "Enter score for Major Exam: 90\n"
     ]
    },
    {
     "data": {
      "text/plain": [
       "91.14500000000001"
      ]
     },
     "execution_count": 5,
     "metadata": {},
     "output_type": "execute_result"
    }
   ],
   "source": [
    "major_exam = int(input(f'Enter score for Major Exam: '))\n",
    "\n",
    "Grade = (0.5*major_exam) + (0.40*AQ) + (0.10*CS)\n",
    "Grade"
   ]
  },
  {
   "cell_type": "code",
   "execution_count": null,
   "id": "1482b34d",
   "metadata": {},
   "outputs": [],
   "source": []
  }
 ],
 "metadata": {
  "kernelspec": {
   "display_name": "Python 3 (ipykernel)",
   "language": "python",
   "name": "python3"
  },
  "language_info": {
   "codemirror_mode": {
    "name": "ipython",
    "version": 3
   },
   "file_extension": ".py",
   "mimetype": "text/x-python",
   "name": "python",
   "nbconvert_exporter": "python",
   "pygments_lexer": "ipython3",
   "version": "3.11.1"
  }
 },
 "nbformat": 4,
 "nbformat_minor": 5
}
