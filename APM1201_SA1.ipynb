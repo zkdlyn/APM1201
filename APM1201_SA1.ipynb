{
 "cells": [
  {
   "cell_type": "markdown",
   "id": "a318f92d",
   "metadata": {},
   "source": [
    "### SETS"
   ]
  },
  {
   "cell_type": "code",
   "execution_count": 22,
   "id": "d1fe9d00",
   "metadata": {},
   "outputs": [
    {
     "name": "stdout",
     "output_type": "stream",
     "text": [
      "\n",
      "Congratulations on your first day as pirate!\n",
      "Time to recruit crew members!\n",
      "Enter their name: luffy\n",
      "\n",
      "    Do you want to enter another? \n",
      "    \n",
      "Press any key to proceed, press 0 to exit: 1\n",
      "Enter their name: zoro\n",
      "\n",
      "    Do you want to enter another? \n",
      "    \n",
      "Press any key to proceed, press 0 to exit: 1\n",
      "Enter their name: nami\n",
      "\n",
      "    Do you want to enter another? \n",
      "    \n",
      "Press any key to proceed, press 0 to exit: 1\n",
      "Enter their name: usopp\n",
      "\n",
      "    Do you want to enter another? \n",
      "    \n",
      "Press any key to proceed, press 0 to exit: 0\n"
     ]
    }
   ],
   "source": [
    "myCrew =set({})\n",
    "cont = 1\n",
    "print('')\n",
    "#creating sets\n",
    "\n",
    "print('Congratulations on your first day as pirate!')\n",
    "print('Time to recruit crew members!')\n",
    "while cont == 1:\n",
    "    member = str(input('Enter their name: '))\n",
    "    myCrew.add(member)\n",
    "    print(f'''\n",
    "    Do you want to enter another? \n",
    "    ''')\n",
    "    cont = int(input('Press any key to proceed, press 0 to exit: '))\n",
    "    if cont == 0:\n",
    "        break\n",
    "    else:\n",
    "        cont == 1\n",
    "    "
   ]
  },
  {
   "cell_type": "code",
   "execution_count": 16,
   "id": "6911e676",
   "metadata": {},
   "outputs": [
    {
     "name": "stdout",
     "output_type": "stream",
     "text": [
      "{'usopp', 'nami', 'zoro', 'luffy'}\n"
     ]
    }
   ],
   "source": [
    "print(myCrew)"
   ]
  },
  {
   "cell_type": "code",
   "execution_count": 23,
   "id": "edd8940b",
   "metadata": {},
   "outputs": [
    {
     "name": "stdout",
     "output_type": "stream",
     "text": [
      "New applicants want to join, recruit three more?\n",
      "      Hint: You're gonna need a cook and a doctor.\n",
      "      \n",
      "\n",
      "Sanji - Former Cook in the Baratie\n",
      "Chopper - Doctor trained by Dr. Kureha\n",
      "Koby - An aspiring Marine\n",
      "\n",
      "Add: sanji\n",
      "Add: chopper\n",
      "Add: koby\n"
     ]
    }
   ],
   "source": [
    "print(f'''New applicants want to join, recruit three more?\n",
    "      Hint: You're gonna need a cook and a doctor.\n",
    "      ''')\n",
    "print(f'''\n",
    "Sanji - Former Cook in the Baratie\n",
    "Chopper - Doctor trained by Dr. Kureha\n",
    "Koby - An aspiring Marine\n",
    "''')\n",
    "for x in range(3):\n",
    "    newMember = input('Add: ')\n",
    "    myCrew.add(newMember)"
   ]
  },
  {
   "cell_type": "code",
   "execution_count": 24,
   "id": "2422b702",
   "metadata": {},
   "outputs": [
    {
     "name": "stdout",
     "output_type": "stream",
     "text": [
      "Oops! it seems you made a mistake there. We need pirates, not Marines!\n",
      "Remove one member?\n",
      "\n",
      "\n",
      "Remove: sanji\n",
      "Not quite... Try again!\n",
      "\n",
      "Remove: robin\n",
      "Not quite... Try again!\n",
      "\n",
      "Remove: koby\n",
      "Great! Removing koby...\n"
     ]
    }
   ],
   "source": [
    "print(f'''Oops! it seems you made a mistake there. We need pirates, not Marines!\n",
    "Remove one member?\n",
    "''')\n",
    "while True:\n",
    "    member_rmv = input('\\nRemove: ')\n",
    "    if member_rmv != 'koby':\n",
    "        print('Not quite... Try again!')\n",
    "    else:\n",
    "        print(f'Great! Removing {member_rmv}...')\n",
    "        myCrew.discard(member_rmv)\n",
    "        break\n"
   ]
  },
  {
   "cell_type": "code",
   "execution_count": 25,
   "id": "06abeb39",
   "metadata": {},
   "outputs": [
    {
     "name": "stdout",
     "output_type": "stream",
     "text": [
      "Have we added robin yet?\n",
      "no!\n",
      "Add: robin\n"
     ]
    }
   ],
   "source": [
    "print('Have we added robin yet?')\n",
    "if 'robin' in myCrew:\n",
    "    print('yes!')\n",
    "else:\n",
    "    print('no!')\n",
    "    newMember = input('Add: ')\n",
    "    myCrew.add(newMember)"
   ]
  },
  {
   "cell_type": "code",
   "execution_count": 26,
   "id": "6ec26637",
   "metadata": {},
   "outputs": [
    {
     "name": "stdout",
     "output_type": "stream",
     "text": [
      "Crew attendance check!\n",
      "sanji\n",
      "chopper\n",
      "nami\n",
      "luffy\n",
      "robin\n",
      "zoro\n",
      "usopp\n"
     ]
    }
   ],
   "source": [
    "print('Crew attendance check!')\n",
    "for x in myCrew:\n",
    "    print(x)"
   ]
  },
  {
   "cell_type": "code",
   "execution_count": 27,
   "id": "a636ccd2",
   "metadata": {},
   "outputs": [
    {
     "name": "stdout",
     "output_type": "stream",
     "text": [
      "The Seven Warlords are proposing an alliance. Let's accept!\n",
      "\n",
      "Let's check our roster: \n",
      "hancock\n",
      "sanji\n",
      "chopper\n",
      "mihawk\n",
      "nami\n",
      "doflamingo\n",
      "jinbe\n",
      "buggy\n",
      "kuma\n",
      "luffy\n",
      "robin\n",
      "zoro\n",
      "usopp\n",
      "gecko\n",
      "There are 14 members in the alliance.\n"
     ]
    }
   ],
   "source": [
    "warLords =set({'hancock', 'mihawk', 'kuma', 'buggy', 'doflamingo', 'jinbe', 'gecko'})\n",
    "\n",
    "print(f'''The Seven Warlords are proposing an alliance. Let's accept!\n",
    "''')\n",
    "\n",
    "unity = myCrew.union(warLords)\n",
    "\n",
    "print(\"Let's check our roster: \")\n",
    "for x in unity:\n",
    "    print(x)\n",
    "\n",
    "print(f'There are {len(unity)} members in the alliance.')"
   ]
  },
  {
   "cell_type": "code",
   "execution_count": 33,
   "id": "ea448615",
   "metadata": {},
   "outputs": [
    {
     "name": "stdout",
     "output_type": "stream",
     "text": [
      "\n",
      "The alliance seem to have common members with the Emperors. Who and how many? \n",
      "Remove them!\n",
      "\n",
      "There are 1 members who are both in the alliance and emperors.\n",
      "The common members: \n",
      "luffy\n",
      "\n",
      "Remaining members: \n",
      "hancock\n",
      "sanji\n",
      "chopper\n",
      "mihawk\n",
      "nami\n",
      "doflamingo\n",
      "jinbe\n",
      "buggy\n",
      "kuma\n",
      "robin\n",
      "zoro\n",
      "usopp\n",
      "gecko\n"
     ]
    }
   ],
   "source": [
    "fourEmperors = set({'luffy', 'shanks', 'buggy', 'blackbeard'})\n",
    "print(f'''\n",
    "The alliance seem to have common members with the Emperors. Who and how many? \n",
    "Remove them!\n",
    "''')\n",
    "common = myCrew.intersection(fourEmperors)\n",
    "print(f'There are {len(common)} members who are both in the alliance and emperors.')\n",
    "print('The common members: ')\n",
    "for x in common:\n",
    "    print(x)\n",
    "\n",
    "print('\\nRemaining members: ')\n",
    "left = unity.difference(common)\n",
    "for x in left: \n",
    "    print(x)"
   ]
  },
  {
   "cell_type": "code",
   "execution_count": null,
   "id": "001184aa",
   "metadata": {},
   "outputs": [],
   "source": []
  }
 ],
 "metadata": {
  "kernelspec": {
   "display_name": "Python 3 (ipykernel)",
   "language": "python",
   "name": "python3"
  },
  "language_info": {
   "codemirror_mode": {
    "name": "ipython",
    "version": 3
   },
   "file_extension": ".py",
   "mimetype": "text/x-python",
   "name": "python",
   "nbconvert_exporter": "python",
   "pygments_lexer": "ipython3",
   "version": "3.11.1"
  }
 },
 "nbformat": 4,
 "nbformat_minor": 5
}
