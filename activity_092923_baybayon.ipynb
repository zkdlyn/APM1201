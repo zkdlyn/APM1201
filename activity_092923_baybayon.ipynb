{
 "cells": [
  {
   "cell_type": "code",
   "execution_count": 1,
   "id": "509be63f",
   "metadata": {},
   "outputs": [
    {
     "name": "stdout",
     "output_type": "stream",
     "text": [
      "1\n",
      "2\n",
      "3\n",
      "4\n",
      "5\n",
      "6\n",
      "7\n",
      "8\n",
      "9\n",
      "0\n"
     ]
    }
   ],
   "source": [
    "setA =set({})\n",
    "setB =set({})\n",
    "setC =set({})\n",
    "setD =set({})\n",
    "setE =set({})\n",
    "\n",
    "#creating sets\n",
    "for x in range(10):\n",
    "    item = input()\n",
    "    setA.add(item)\n",
    "# for x in range(5):\n",
    "#     item = input('Enter an item: ')\n",
    "#     setB.add(item)\n",
    "# for x in range(5):\n",
    "#     item = input('Enter an item: ')\n",
    "#     setC.add(item)\n",
    "# for x in range(5):\n",
    "#     item = input('Enter an item: ')\n",
    "#     setD.add(item)\n",
    "# for x in range(5):\n",
    "#     item = input('Enter an item: ')\n",
    "#     setE.add(item)\n",
    "\n"
   ]
  },
  {
   "cell_type": "code",
   "execution_count": 2,
   "id": "c9187f83",
   "metadata": {},
   "outputs": [
    {
     "name": "stdout",
     "output_type": "stream",
     "text": [
      "9\n",
      "0\n",
      "5\n",
      "7\n",
      "8\n",
      "6\n",
      "1\n",
      "4\n",
      "2\n",
      "3\n"
     ]
    }
   ],
   "source": [
    "## accessing values\n",
    "for x in setA:\n",
    "    print(x)"
   ]
  },
  {
   "cell_type": "code",
   "execution_count": 3,
   "id": "7917ab51",
   "metadata": {},
   "outputs": [
    {
     "name": "stdout",
     "output_type": "stream",
     "text": [
      "Add another item to SetB: 10\n",
      "Remove an item: 0\n",
      "{'9', '5', '7', '10', '8', '6', '1', '4', '2', '3'}\n"
     ]
    }
   ],
   "source": [
    "#add items\n",
    "setB=setA.copy()\n",
    "new_item = input('Add another item to SetB: ')\n",
    "setB.add(new_item)\n",
    "rmv_item = input('Remove an item: ')\n",
    "setB.discard(rmv_item)\n",
    "print(setB)\n"
   ]
  },
  {
   "cell_type": "code",
   "execution_count": 4,
   "id": "d67431af",
   "metadata": {},
   "outputs": [
    {
     "name": "stdout",
     "output_type": "stream",
     "text": [
      "{'9', '0', '5', '7', '8', '6', '1', '4', '2', '3'}\n",
      "{'9', '5', '7', '10', '8', '6', '1', '4', '2', '3'}\n"
     ]
    }
   ],
   "source": [
    "print(setA)\n",
    "print(setB)"
   ]
  },
  {
   "cell_type": "code",
   "execution_count": 12,
   "id": "1183cb05",
   "metadata": {},
   "outputs": [
    {
     "name": "stdout",
     "output_type": "stream",
     "text": [
      "Union of A and B (setC)\n",
      "{'9', '7', '10', '1', '0', '5', '8', '6', '4', '2', '3'}\n"
     ]
    }
   ],
   "source": [
    "#intersection\n",
    "print('Union of A and B (setC)')\n",
    "setC=setA.union(setB)\n",
    "print(setC)"
   ]
  },
  {
   "cell_type": "code",
   "execution_count": 13,
   "id": "11018ffc",
   "metadata": {},
   "outputs": [
    {
     "name": "stdout",
     "output_type": "stream",
     "text": [
      "Intersection of C and Symm diff of A and B (setD)\n",
      "{'10', '0'}\n"
     ]
    }
   ],
   "source": [
    "#union #set difference\n",
    "print('Intersection of C and Symm diff of A and B (setD)')\n",
    "setD= setC.intersection(setA^setB)\n",
    "print(setD)"
   ]
  },
  {
   "cell_type": "code",
   "execution_count": 14,
   "id": "deea135e",
   "metadata": {},
   "outputs": [
    {
     "name": "stdout",
     "output_type": "stream",
     "text": [
      "Set Difference\n",
      "Add another item to SetE: 11\n",
      "Add another item to SetE: 12\n",
      "Add another item to SetE: 13\n",
      "{'13', '11', '12', '0'}\n"
     ]
    }
   ],
   "source": [
    "#set difference\n",
    "print('Set Difference')\n",
    "setE = setA - setB\n",
    "for x in range(3):\n",
    "    new_item = input('Add another item to SetE: ')\n",
    "    setE.add(new_item)\n",
    "print(setE)"
   ]
  },
  {
   "cell_type": "code",
   "execution_count": 17,
   "id": "b403f8b7",
   "metadata": {},
   "outputs": [
    {
     "name": "stdout",
     "output_type": "stream",
     "text": [
      "Is setD a subset of setC\n",
      "True\n",
      "Is setA a superset of setD\n",
      "False\n"
     ]
    }
   ],
   "source": [
    "#comparing sets\n",
    "print('Is setD a subset of setC')\n",
    "print(setD.issubset(setC))\n",
    "\n",
    "print('Is setA a superset of setD')\n",
    "print(setA.issuperset(setD))"
   ]
  },
  {
   "cell_type": "markdown",
   "id": "b44b69f7",
   "metadata": {},
   "source": [
    "### stacks"
   ]
  },
  {
   "cell_type": "code",
   "execution_count": 20,
   "id": "d434fafb",
   "metadata": {},
   "outputs": [],
   "source": [
    "from queue import LifoQueue"
   ]
  },
  {
   "cell_type": "code",
   "execution_count": 21,
   "id": "99328c98",
   "metadata": {},
   "outputs": [
    {
     "name": "stdout",
     "output_type": "stream",
     "text": [
      "Enter item in stackA: a\n",
      "Enter item in stackA: b\n",
      "Enter item in stackA: c\n",
      "Enter item in stackA: d\n",
      "Enter item in stackA: e\n",
      "Enter item in stackA: f\n",
      "Enter item in stackA: g\n",
      "Enter item in stackA: h\n",
      "Enter item in stackA: i\n",
      "Enter item in stackA: j\n"
     ]
    }
   ],
   "source": [
    "stackA = LifoQueue(maxsize=10)\n",
    "stackB = LifoQueue(maxsize=10)\n",
    "for x in range(10):\n",
    "    item = input('Enter item in stackA: ')\n",
    "    stackA.put(item)"
   ]
  },
  {
   "cell_type": "code",
   "execution_count": 22,
   "id": "1c942dcd",
   "metadata": {},
   "outputs": [
    {
     "name": "stdout",
     "output_type": "stream",
     "text": [
      "Pop Items\n",
      "j\n",
      "i\n",
      "h\n"
     ]
    }
   ],
   "source": [
    "#pop\n",
    "print('Pop Items')\n",
    "for x in range(3):\n",
    "    n = stackA.get()\n",
    "    print(n)\n"
   ]
  },
  {
   "cell_type": "code",
   "execution_count": 23,
   "id": "aea5a5ef",
   "metadata": {},
   "outputs": [
    {
     "data": {
      "text/plain": [
       "['a', 'b', 'c', 'd', 'e', 'f', 'g']"
      ]
     },
     "execution_count": 23,
     "metadata": {},
     "output_type": "execute_result"
    }
   ],
   "source": [
    "list(stackA.queue)"
   ]
  },
  {
   "cell_type": "code",
   "execution_count": 24,
   "id": "ea664c82",
   "metadata": {},
   "outputs": [],
   "source": [
    "#copy to stackB\n",
    "while stackA.empty()== False:\n",
    "    item = stackA.get()\n",
    "    stackB.put(item)"
   ]
  },
  {
   "cell_type": "code",
   "execution_count": 25,
   "id": "e262aec0",
   "metadata": {},
   "outputs": [
    {
     "name": "stdout",
     "output_type": "stream",
     "text": [
      "Is stackA empty?\n"
     ]
    },
    {
     "data": {
      "text/plain": [
       "True"
      ]
     },
     "execution_count": 25,
     "metadata": {},
     "output_type": "execute_result"
    }
   ],
   "source": [
    "#check if stack is empty\n",
    "print('Is stackA empty?')\n",
    "stackA.empty()"
   ]
  },
  {
   "cell_type": "code",
   "execution_count": 26,
   "id": "0fc5b341",
   "metadata": {},
   "outputs": [
    {
     "data": {
      "text/plain": [
       "False"
      ]
     },
     "execution_count": 26,
     "metadata": {},
     "output_type": "execute_result"
    }
   ],
   "source": [
    "#check if stack is full\n",
    "stackB.full()"
   ]
  },
  {
   "cell_type": "code",
   "execution_count": 27,
   "id": "21059266",
   "metadata": {},
   "outputs": [
    {
     "data": {
      "text/plain": [
       "True"
      ]
     },
     "execution_count": 27,
     "metadata": {},
     "output_type": "execute_result"
    }
   ],
   "source": [
    "stackB.put('k')\n",
    "stackB.put('l')\n",
    "stackB.put('m')\n",
    "stackB.full()"
   ]
  },
  {
   "cell_type": "code",
   "execution_count": 28,
   "id": "5f684036",
   "metadata": {},
   "outputs": [
    {
     "name": "stdout",
     "output_type": "stream",
     "text": [
      "Top item:  m\n"
     ]
    }
   ],
   "source": [
    "#peek in stackB\n",
    "top_item = stackB.queue[-1]\n",
    "print('Top item: ', top_item)"
   ]
  },
  {
   "cell_type": "code",
   "execution_count": 29,
   "id": "b57b4904",
   "metadata": {},
   "outputs": [
    {
     "data": {
      "text/plain": [
       "['g', 'f', 'e', 'd', 'c', 'b', 'a', 'k', 'l', 'm']"
      ]
     },
     "execution_count": 29,
     "metadata": {},
     "output_type": "execute_result"
    }
   ],
   "source": [
    "list(stackB.queue)\n",
    "#m is still in stackB"
   ]
  },
  {
   "cell_type": "markdown",
   "id": "6a0247c4",
   "metadata": {},
   "source": [
    "### queue"
   ]
  },
  {
   "cell_type": "code",
   "execution_count": 8,
   "id": "0a5d3a71",
   "metadata": {},
   "outputs": [],
   "source": [
    "import queue\n",
    "queueA = queue.Queue(maxsize=10)\n",
    "queueB = queue.Queue(maxsize=10)"
   ]
  },
  {
   "cell_type": "code",
   "execution_count": 9,
   "id": "483e1f24",
   "metadata": {},
   "outputs": [
    {
     "name": "stdout",
     "output_type": "stream",
     "text": [
      "Enter item in queueA: 1\n",
      "Enter item in queueA: 2\n",
      "Enter item in queueA: 3\n",
      "Enter item in queueA: 4\n",
      "Enter item in queueA: 5\n",
      "Enter item in queueA: 6\n",
      "Enter item in queueA: 7\n",
      "Enter item in queueA: 8\n",
      "Enter item in queueA: 9\n",
      "Enter item in queueA: 0\n"
     ]
    }
   ],
   "source": [
    "#enqueue\n",
    "for x in range(10):\n",
    "    item = input('Enter item in queueA: ')\n",
    "    queueA.put(item)"
   ]
  },
  {
   "cell_type": "code",
   "execution_count": 10,
   "id": "1bfa4f52",
   "metadata": {},
   "outputs": [
    {
     "name": "stdout",
     "output_type": "stream",
     "text": [
      "Dequeue Items\n",
      "1\n",
      "2\n",
      "3\n"
     ]
    }
   ],
   "source": [
    "#dequeue\n",
    "print('Dequeue Items')\n",
    "for x in range(3):\n",
    "    n = queueA.get()\n",
    "    print(n)"
   ]
  },
  {
   "cell_type": "code",
   "execution_count": 11,
   "id": "b71b90f3",
   "metadata": {},
   "outputs": [
    {
     "name": "stdout",
     "output_type": "stream",
     "text": [
      "Is queueA empty?\n"
     ]
    },
    {
     "data": {
      "text/plain": [
       "False"
      ]
     },
     "execution_count": 11,
     "metadata": {},
     "output_type": "execute_result"
    }
   ],
   "source": [
    "#empty\n",
    "print('Is queueA empty?')\n",
    "queueA.empty()"
   ]
  },
  {
   "cell_type": "code",
   "execution_count": 12,
   "id": "b5ce9aaf",
   "metadata": {},
   "outputs": [],
   "source": [
    "#copy\n",
    "while queueA.empty()== False:\n",
    "    item = queueA.get()\n",
    "    queueB.put(item)\n",
    "  \n"
   ]
  },
  {
   "cell_type": "code",
   "execution_count": 15,
   "id": "2372db48",
   "metadata": {},
   "outputs": [
    {
     "name": "stdout",
     "output_type": "stream",
     "text": [
      "Is queueB full?\n"
     ]
    },
    {
     "data": {
      "text/plain": [
       "True"
      ]
     },
     "execution_count": 15,
     "metadata": {},
     "output_type": "execute_result"
    }
   ],
   "source": [
    "#full\n",
    "queueB.put('a')\n",
    "queueB.put('b')\n",
    "queueB.put('c')\n",
    "print('Is queueB full?')\n",
    "queueB.full()"
   ]
  },
  {
   "cell_type": "code",
   "execution_count": 18,
   "id": "a727763b",
   "metadata": {},
   "outputs": [
    {
     "name": "stdout",
     "output_type": "stream",
     "text": [
      "Peeked item: 4\n"
     ]
    }
   ],
   "source": [
    "#peek\n",
    "first_item = queueB.queue[0]\n",
    "print(\"Peeked item:\", first_item)"
   ]
  },
  {
   "cell_type": "code",
   "execution_count": 19,
   "id": "fd2b98ea",
   "metadata": {},
   "outputs": [
    {
     "data": {
      "text/plain": [
       "['4', '5', '6', '7', '8', '9', '0', 'a', 'b', 'c']"
      ]
     },
     "execution_count": 19,
     "metadata": {},
     "output_type": "execute_result"
    }
   ],
   "source": [
    "list(queueB.queue)"
   ]
  },
  {
   "cell_type": "code",
   "execution_count": null,
   "id": "b86ba7e5",
   "metadata": {},
   "outputs": [],
   "source": []
  }
 ],
 "metadata": {
  "kernelspec": {
   "display_name": "Python 3 (ipykernel)",
   "language": "python",
   "name": "python3"
  },
  "language_info": {
   "codemirror_mode": {
    "name": "ipython",
    "version": 3
   },
   "file_extension": ".py",
   "mimetype": "text/x-python",
   "name": "python",
   "nbconvert_exporter": "python",
   "pygments_lexer": "ipython3",
   "version": "3.11.1"
  }
 },
 "nbformat": 4,
 "nbformat_minor": 5
}
