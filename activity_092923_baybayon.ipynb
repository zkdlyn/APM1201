{
 "cells": [
  {
   "cell_type": "code",
   "execution_count": 1,
   "id": "509be63f",
   "metadata": {},
   "outputs": [
    {
     "name": "stdout",
     "output_type": "stream",
     "text": [
      "1\n",
      "2\n",
      "3\n",
      "4\n",
      "5\n",
      "6\n",
      "7\n",
      "8\n",
      "9\n",
      "0\n"
     ]
    }
   ],
   "source": [
    "setA =set({})\n",
    "setB =set({})\n",
    "setC =set({})\n",
    "setD =set({})\n",
    "setE =set({})\n",
    "\n",
    "#creating sets\n",
    "for x in range(10):\n",
    "    item = input()\n",
    "    setA.add(item)\n"
   ]
  },
  {
   "cell_type": "code",
   "execution_count": 2,
   "id": "c9187f83",
   "metadata": {},
   "outputs": [
    {
     "name": "stdout",
     "output_type": "stream",
     "text": [
      "4\n",
      "1\n",
      "7\n",
      "3\n",
      "6\n",
      "9\n",
      "0\n",
      "5\n",
      "8\n",
      "2\n"
     ]
    }
   ],
   "source": [
    "## accessing values\n",
    "for x in setA:\n",
    "    print(x)"
   ]
  },
  {
   "cell_type": "code",
   "execution_count": 3,
   "id": "7917ab51",
   "metadata": {},
   "outputs": [
    {
     "name": "stdout",
     "output_type": "stream",
     "text": [
      "Add another item to SetB: 10\n",
      "Remove an item: 0\n",
      "{'4', '1', '10', '7', '3', '6', '9', '5', '8', '2'}\n"
     ]
    }
   ],
   "source": [
    "#add items\n",
    "setB=setA.copy()\n",
    "new_item = input('Add another item to SetB: ')\n",
    "setB.add(new_item)\n",
    "rmv_item = input('Remove an item: ')\n",
    "setB.discard(rmv_item)\n",
    "print(setB)\n"
   ]
  },
  {
   "cell_type": "code",
   "execution_count": 4,
   "id": "d67431af",
   "metadata": {},
   "outputs": [
    {
     "name": "stdout",
     "output_type": "stream",
     "text": [
      "{'4', '1', '7', '3', '6', '9', '0', '5', '8', '2'}\n",
      "{'4', '1', '10', '7', '3', '6', '9', '5', '8', '2'}\n"
     ]
    }
   ],
   "source": [
    "print(setA)\n",
    "print(setB)"
   ]
  },
  {
   "cell_type": "code",
   "execution_count": 5,
   "id": "1183cb05",
   "metadata": {},
   "outputs": [
    {
     "name": "stdout",
     "output_type": "stream",
     "text": [
      "Union of A and B (setC)\n",
      "{'4', '0', '8', '1', '10', '7', '3', '6', '9', '5', '2'}\n"
     ]
    }
   ],
   "source": [
    "#intersection\n",
    "print('Union of A and B (setC)')\n",
    "setC=setA.union(setB)\n",
    "print(setC)"
   ]
  },
  {
   "cell_type": "code",
   "execution_count": 6,
   "id": "11018ffc",
   "metadata": {},
   "outputs": [
    {
     "name": "stdout",
     "output_type": "stream",
     "text": [
      "Intersection of C and Symm diff of A and B (setD)\n",
      "{'10', '0'}\n"
     ]
    }
   ],
   "source": [
    "#union #set difference\n",
    "print('Intersection of C and Symm diff of A and B (setD)')\n",
    "setD= setC.intersection(setA^setB)\n",
    "print(setD)"
   ]
  },
  {
   "cell_type": "code",
   "execution_count": 7,
   "id": "deea135e",
   "metadata": {},
   "outputs": [
    {
     "name": "stdout",
     "output_type": "stream",
     "text": [
      "Set Difference\n",
      "Add another item to SetE: 11\n",
      "Add another item to SetE: 12\n",
      "Add another item to SetE: 13\n",
      "{'13', '0', '11', '12'}\n"
     ]
    }
   ],
   "source": [
    "#set difference\n",
    "print('Set Difference')\n",
    "setE = setA - setB\n",
    "for x in range(3):\n",
    "    new_item = input('Add another item to SetE: ')\n",
    "    setE.add(new_item)\n",
    "print(setE)"
   ]
  },
  {
   "cell_type": "code",
   "execution_count": 12,
   "id": "b403f8b7",
   "metadata": {},
   "outputs": [
    {
     "name": "stdout",
     "output_type": "stream",
     "text": [
      "Is setD a subset of setC\n",
      "True\n",
      "Is setE a subset of setB\n",
      "False\n",
      "Is setD a subset of setA\n",
      "False\n",
      "\n",
      "Is setA a superset of setB\n",
      "False\n",
      "Is setC a superset of setD\n",
      "True\n",
      "Is setE a superset of setD\n",
      "False\n"
     ]
    }
   ],
   "source": [
    "#comparing sets\n",
    "print('Is setD a subset of setC')\n",
    "print(setD.issubset(setC))\n",
    "print('Is setE a subset of setB')\n",
    "print(setE.issubset(setB))\n",
    "print('Is setD a subset of setA')\n",
    "print(setD.issubset(setA))\n",
    "\n",
    "print('\\nIs setA a superset of setB')\n",
    "print(setA.issuperset(setB))\n",
    "print('Is setC a superset of setD')\n",
    "print(setC.issuperset(setD))\n",
    "print('Is setE a superset of setD')\n",
    "print(setE.issuperset(setD))"
   ]
  },
  {
   "cell_type": "code",
   "execution_count": 16,
   "id": "a8f01d1b",
   "metadata": {},
   "outputs": [
    {
     "name": "stdout",
     "output_type": "stream",
     "text": [
      "Union of all sets\n"
     ]
    },
    {
     "data": {
      "text/plain": [
       "{'0', '1', '10', '11', '12', '13', '2', '3', '4', '5', '6', '7', '8', '9'}"
      ]
     },
     "execution_count": 16,
     "metadata": {},
     "output_type": "execute_result"
    }
   ],
   "source": [
    "\n",
    "print('Union of all sets')\n",
    "setA.union(setB,setC,setD,setE)\n"
   ]
  },
  {
   "cell_type": "code",
   "execution_count": 17,
   "id": "93ef5ac6",
   "metadata": {},
   "outputs": [
    {
     "name": "stdout",
     "output_type": "stream",
     "text": [
      "Intersection of all sets\n"
     ]
    },
    {
     "data": {
      "text/plain": [
       "set()"
      ]
     },
     "execution_count": 17,
     "metadata": {},
     "output_type": "execute_result"
    }
   ],
   "source": [
    "print('Intersection of all sets')\n",
    "setA.intersection(setB,setC,setD,setE)"
   ]
  },
  {
   "cell_type": "markdown",
   "id": "b44b69f7",
   "metadata": {},
   "source": [
    "### stacks"
   ]
  },
  {
   "cell_type": "code",
   "execution_count": 10,
   "id": "d434fafb",
   "metadata": {},
   "outputs": [],
   "source": [
    "from queue import LifoQueue"
   ]
  },
  {
   "cell_type": "code",
   "execution_count": 11,
   "id": "99328c98",
   "metadata": {},
   "outputs": [
    {
     "name": "stdout",
     "output_type": "stream",
     "text": [
      "Enter item in stackA: a\n",
      "Enter item in stackA: b\n",
      "Enter item in stackA: c\n",
      "Enter item in stackA: d\n",
      "Enter item in stackA: e\n",
      "Enter item in stackA: f\n",
      "Enter item in stackA: g\n",
      "Enter item in stackA: h\n",
      "Enter item in stackA: i\n",
      "Enter item in stackA: j\n",
      "Enter item in stackB: k\n",
      "Enter item in stackB: l\n",
      "Enter item in stackB: m\n",
      "Enter item in stackB: n\n",
      "Enter item in stackB: o\n",
      "Enter item in stackB: p\n",
      "Enter item in stackB: q\n",
      "Enter item in stackB: r\n",
      "Enter item in stackB: s\n",
      "Enter item in stackB: t\n"
     ]
    }
   ],
   "source": [
    "stackA = LifoQueue(maxsize=10)\n",
    "stackB = LifoQueue(maxsize=10)\n",
    "for x in range(10):\n",
    "    item = input('Enter item in stackA: ')\n",
    "    stackA.put(item)\n",
    "for x in range(10):\n",
    "    item = input('Enter item in stackB: ')\n",
    "    stackB.put(item)"
   ]
  },
  {
   "cell_type": "code",
   "execution_count": 12,
   "id": "5c3c6c08",
   "metadata": {},
   "outputs": [
    {
     "name": "stdout",
     "output_type": "stream",
     "text": [
      "Stack A:  ['a', 'b', 'c', 'd', 'e', 'f', 'g', 'h', 'i', 'j']\n",
      "Stack B:  ['k', 'l', 'm', 'n', 'o', 'p', 'q', 'r', 's', 't']\n"
     ]
    }
   ],
   "source": [
    "print('Stack A: ', stackA.queue)\n",
    "print('Stack B: ', stackB.queue)"
   ]
  },
  {
   "cell_type": "code",
   "execution_count": 13,
   "id": "1c942dcd",
   "metadata": {},
   "outputs": [
    {
     "name": "stdout",
     "output_type": "stream",
     "text": [
      "Pop Items from Stack A\n",
      "j\n",
      "i\n",
      "h\n",
      "Pop Items from Stack B\n",
      "t\n",
      "s\n",
      "r\n"
     ]
    }
   ],
   "source": [
    "#pop\n",
    "print('Pop Items from Stack A')\n",
    "for x in range(3):\n",
    "    n = stackA.get()\n",
    "    print(n)\n",
    "\n",
    "print('Pop Items from Stack B')\n",
    "for x in range(3):\n",
    "    n = stackB.get()\n",
    "    print(n)\n",
    "    \n"
   ]
  },
  {
   "cell_type": "code",
   "execution_count": 14,
   "id": "aea5a5ef",
   "metadata": {},
   "outputs": [
    {
     "name": "stdout",
     "output_type": "stream",
     "text": [
      "Stack A:  ['a', 'b', 'c', 'd', 'e', 'f', 'g']\n",
      "Stack B:  ['k', 'l', 'm', 'n', 'o', 'p', 'q']\n"
     ]
    }
   ],
   "source": [
    "print('Stack A: ', stackA.queue)\n",
    "print('Stack B: ', stackB.queue)"
   ]
  },
  {
   "cell_type": "code",
   "execution_count": null,
   "id": "ea664c82",
   "metadata": {},
   "outputs": [],
   "source": []
  },
  {
   "cell_type": "code",
   "execution_count": 15,
   "id": "e262aec0",
   "metadata": {},
   "outputs": [
    {
     "name": "stdout",
     "output_type": "stream",
     "text": [
      "Is stackA empty?\n",
      "False\n",
      "Is stackB empty?\n",
      "False\n"
     ]
    }
   ],
   "source": [
    "#check if stack is empty\n",
    "print('Is stackA empty?')\n",
    "print(stackA.empty())\n",
    "print('Is stackB empty?')\n",
    "print(stackB.empty())"
   ]
  },
  {
   "cell_type": "code",
   "execution_count": 16,
   "id": "0fc5b341",
   "metadata": {},
   "outputs": [
    {
     "name": "stdout",
     "output_type": "stream",
     "text": [
      "Stack A incomplete, adding new items...\n"
     ]
    }
   ],
   "source": [
    "#check if stack is full\n",
    "if stackA.full() == True:\n",
    "    print('Stack A has 10 items')\n",
    "else:\n",
    "    print('Stack A incomplete, adding new items...')\n",
    "    stackA.put(1)\n",
    "    stackA.put(2)\n",
    "    stackA.put(3)"
   ]
  },
  {
   "cell_type": "code",
   "execution_count": 17,
   "id": "2af72681",
   "metadata": {},
   "outputs": [
    {
     "name": "stdout",
     "output_type": "stream",
     "text": [
      "Is Stack A now full?\n"
     ]
    },
    {
     "data": {
      "text/plain": [
       "True"
      ]
     },
     "execution_count": 17,
     "metadata": {},
     "output_type": "execute_result"
    }
   ],
   "source": [
    "print('Is Stack A now full?')\n",
    "stackA.full()"
   ]
  },
  {
   "cell_type": "code",
   "execution_count": 18,
   "id": "a7e1c989",
   "metadata": {},
   "outputs": [
    {
     "name": "stdout",
     "output_type": "stream",
     "text": [
      "Stack A:  ['a', 'b', 'c', 'd', 'e', 'f', 'g', 1, 2, 3]\n"
     ]
    }
   ],
   "source": [
    "print('Stack A: ', stackA.queue)"
   ]
  },
  {
   "cell_type": "code",
   "execution_count": 19,
   "id": "21059266",
   "metadata": {},
   "outputs": [
    {
     "name": "stdout",
     "output_type": "stream",
     "text": [
      "Is Stack B full?\n"
     ]
    },
    {
     "data": {
      "text/plain": [
       "False"
      ]
     },
     "execution_count": 19,
     "metadata": {},
     "output_type": "execute_result"
    }
   ],
   "source": [
    "print('Is Stack B full?')\n",
    "stackB.full()"
   ]
  },
  {
   "cell_type": "code",
   "execution_count": 20,
   "id": "5f684036",
   "metadata": {},
   "outputs": [
    {
     "name": "stdout",
     "output_type": "stream",
     "text": [
      "Last item in Stack A:  3\n",
      "Last item in Stack B:  q\n"
     ]
    }
   ],
   "source": [
    "#peek in \n",
    "last_itemA = stackA.queue[-1]\n",
    "last_itemB = stackB.queue[-1]\n",
    "print('Last item in Stack A: ', last_itemA)\n",
    "print('Last item in Stack B: ', last_itemB)"
   ]
  },
  {
   "cell_type": "code",
   "execution_count": 21,
   "id": "b57b4904",
   "metadata": {},
   "outputs": [
    {
     "name": "stdout",
     "output_type": "stream",
     "text": [
      "Stack A:  ['a', 'b', 'c', 'd', 'e', 'f', 'g', 1, 2, 3]\n",
      "Stack B:  ['k', 'l', 'm', 'n', 'o', 'p', 'q']\n"
     ]
    }
   ],
   "source": [
    "print('Stack A: ', stackA.queue)\n",
    "print('Stack B: ', stackB.queue)"
   ]
  },
  {
   "cell_type": "code",
   "execution_count": null,
   "id": "bb2948fb",
   "metadata": {},
   "outputs": [],
   "source": []
  },
  {
   "cell_type": "markdown",
   "id": "6a0247c4",
   "metadata": {},
   "source": [
    "### queue"
   ]
  },
  {
   "cell_type": "code",
   "execution_count": 22,
   "id": "0a5d3a71",
   "metadata": {},
   "outputs": [],
   "source": [
    "import queue\n",
    "queueA = queue.Queue(maxsize=10)\n",
    "queueB = queue.Queue(maxsize=10)"
   ]
  },
  {
   "cell_type": "code",
   "execution_count": 23,
   "id": "483e1f24",
   "metadata": {},
   "outputs": [
    {
     "name": "stdout",
     "output_type": "stream",
     "text": [
      "Enter item in queueA: 1\n",
      "Enter item in queueA: 2\n",
      "Enter item in queueA: 3\n",
      "Enter item in queueA: 4\n",
      "Enter item in queueA: 5\n",
      "Enter item in queueA: 6\n",
      "Enter item in queueA: 7\n",
      "Enter item in queueA: 8\n",
      "Enter item in queueA: 9\n",
      "Enter item in queueA: 10\n",
      "Enter item in queueB: 11\n",
      "Enter item in queueB: 12\n",
      "Enter item in queueB: 13\n",
      "Enter item in queueB: 1\n",
      "Enter item in queueB: 15\n",
      "Enter item in queueB: 16\n",
      "Enter item in queueB: 17\n",
      "Enter item in queueB: 18\n",
      "Enter item in queueB: 19\n",
      "Enter item in queueB: 20\n"
     ]
    }
   ],
   "source": [
    "#enqueue\n",
    "for x in range(10):\n",
    "    item = input('Enter item in queueA: ')\n",
    "    queueA.put(item)\n",
    "for x in range(10):\n",
    "    item = input('Enter item in queueB: ')\n",
    "    queueB.put(item)"
   ]
  },
  {
   "cell_type": "code",
   "execution_count": 24,
   "id": "111e9aa5",
   "metadata": {},
   "outputs": [
    {
     "name": "stdout",
     "output_type": "stream",
     "text": [
      "Queue A:  deque(['1', '2', '3', '4', '5', '6', '7', '8', '9', '10'])\n",
      "Queue B:  deque(['11', '12', '13', '1', '15', '16', '17', '18', '19', '20'])\n"
     ]
    }
   ],
   "source": [
    "print('Queue A: ', queueA.queue)\n",
    "print('Queue B: ', queueB.queue)"
   ]
  },
  {
   "cell_type": "code",
   "execution_count": 25,
   "id": "a7f12207",
   "metadata": {},
   "outputs": [
    {
     "name": "stdout",
     "output_type": "stream",
     "text": [
      "Dequeue Items from queue A\n",
      "1\n",
      "2\n",
      "3\n",
      "\n",
      "Dequeue Items from queue B\n",
      "11\n",
      "12\n",
      "13\n"
     ]
    }
   ],
   "source": [
    "#dequeue\n",
    "print('Dequeue Items from queue A')\n",
    "for x in range(3):\n",
    "    n = queueA.get()\n",
    "    print(n)\n",
    "\n",
    "print('\\nDequeue Items from queue B')\n",
    "for x in range(3):\n",
    "    n = queueB.get()\n",
    "    print(n)"
   ]
  },
  {
   "cell_type": "code",
   "execution_count": 26,
   "id": "b71b90f3",
   "metadata": {},
   "outputs": [
    {
     "name": "stdout",
     "output_type": "stream",
     "text": [
      "Is queueA empty?\n",
      "False\n",
      "Is queueB empty?\n",
      "False\n"
     ]
    }
   ],
   "source": [
    "#empty\n",
    "print('Is queueA empty?')\n",
    "print(queueA.empty())\n",
    "print('Is queueB empty?')\n",
    "print(queueB.empty())"
   ]
  },
  {
   "cell_type": "code",
   "execution_count": 27,
   "id": "204b1cb0",
   "metadata": {},
   "outputs": [
    {
     "name": "stdout",
     "output_type": "stream",
     "text": [
      "Is queueA full?\n"
     ]
    },
    {
     "data": {
      "text/plain": [
       "False"
      ]
     },
     "execution_count": 27,
     "metadata": {},
     "output_type": "execute_result"
    }
   ],
   "source": [
    "print('Is queueA full?')\n",
    "queueA.full()"
   ]
  },
  {
   "cell_type": "code",
   "execution_count": 28,
   "id": "2372db48",
   "metadata": {},
   "outputs": [
    {
     "name": "stdout",
     "output_type": "stream",
     "text": [
      "Is queueB full?\n"
     ]
    },
    {
     "data": {
      "text/plain": [
       "True"
      ]
     },
     "execution_count": 28,
     "metadata": {},
     "output_type": "execute_result"
    }
   ],
   "source": [
    "#full\n",
    "queueB.put('a')\n",
    "queueB.put('b')\n",
    "queueB.put('c')\n",
    "print('Is queueB full?')\n",
    "queueB.full()"
   ]
  },
  {
   "cell_type": "code",
   "execution_count": 29,
   "id": "a727763b",
   "metadata": {},
   "outputs": [
    {
     "name": "stdout",
     "output_type": "stream",
     "text": [
      "First item in queueA: 4\n",
      "First item in queueB: 1\n"
     ]
    }
   ],
   "source": [
    "#peek\n",
    "first_itemA = queueA.queue[0]\n",
    "print(\"First item in queueA:\", first_itemA)\n",
    "first_itemB = queueB.queue[0]\n",
    "print(\"First item in queueB:\", first_itemB)"
   ]
  },
  {
   "cell_type": "code",
   "execution_count": 30,
   "id": "fd2b98ea",
   "metadata": {},
   "outputs": [
    {
     "name": "stdout",
     "output_type": "stream",
     "text": [
      "Queue A:  deque(['4', '5', '6', '7', '8', '9', '10'])\n",
      "Queue B:  deque(['1', '15', '16', '17', '18', '19', '20', 'a', 'b', 'c'])\n"
     ]
    }
   ],
   "source": [
    "print('Queue A: ', queueA.queue)\n",
    "print('Queue B: ', queueB.queue)"
   ]
  },
  {
   "cell_type": "code",
   "execution_count": null,
   "id": "b86ba7e5",
   "metadata": {},
   "outputs": [],
   "source": []
  }
 ],
 "metadata": {
  "kernelspec": {
   "display_name": "Python 3 (ipykernel)",
   "language": "python",
   "name": "python3"
  },
  "language_info": {
   "codemirror_mode": {
    "name": "ipython",
    "version": 3
   },
   "file_extension": ".py",
   "mimetype": "text/x-python",
   "name": "python",
   "nbconvert_exporter": "python",
   "pygments_lexer": "ipython3",
   "version": "3.11.1"
  }
 },
 "nbformat": 4,
 "nbformat_minor": 5
}
