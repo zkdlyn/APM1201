{
 "cells": [
  {
   "cell_type": "code",
   "execution_count": 72,
   "id": "509be63f",
   "metadata": {},
   "outputs": [
    {
     "name": "stdout",
     "output_type": "stream",
     "text": [
      "1\n",
      "2\n",
      "3\n",
      "4\n",
      "5\n",
      "6\n",
      "7\n",
      "8\n",
      "9\n",
      "0\n"
     ]
    }
   ],
   "source": [
    "setA =set({})\n",
    "setB =set({})\n",
    "setC =set({})\n",
    "setD =set({})\n",
    "setE =set({})\n",
    "\n",
    "#creating sets\n",
    "for x in range(10):\n",
    "    item = input()\n",
    "    setA.add(item)\n",
    "# for x in range(5):\n",
    "#     item = input('Enter an item: ')\n",
    "#     setB.add(item)\n",
    "# for x in range(5):\n",
    "#     item = input('Enter an item: ')\n",
    "#     setC.add(item)\n",
    "# for x in range(5):\n",
    "#     item = input('Enter an item: ')\n",
    "#     setD.add(item)\n",
    "# for x in range(5):\n",
    "#     item = input('Enter an item: ')\n",
    "#     setE.add(item)\n",
    "\n"
   ]
  },
  {
   "cell_type": "code",
   "execution_count": 73,
   "id": "c9187f83",
   "metadata": {},
   "outputs": [
    {
     "name": "stdout",
     "output_type": "stream",
     "text": [
      "9\n",
      "5\n",
      "8\n",
      "0\n",
      "7\n",
      "4\n",
      "3\n",
      "2\n",
      "6\n",
      "1\n"
     ]
    }
   ],
   "source": [
    "## accessing values\n",
    "for x in setA:\n",
    "    print(x)"
   ]
  },
  {
   "cell_type": "code",
   "execution_count": 74,
   "id": "7917ab51",
   "metadata": {},
   "outputs": [
    {
     "name": "stdout",
     "output_type": "stream",
     "text": [
      "Add another item to SetB: 10\n",
      "Remove an item: 0\n",
      "{'9', '5', '8', '7', '4', '10', '3', '2', '6', '1'}\n"
     ]
    }
   ],
   "source": [
    "#add items\n",
    "setB=setA.copy()\n",
    "new_item = input('Add another item to SetB: ')\n",
    "setB.add(new_item)\n",
    "rmv_item = input('Remove an item: ')\n",
    "setB.discard(rmv_item)\n",
    "print(setB)\n"
   ]
  },
  {
   "cell_type": "code",
   "execution_count": 75,
   "id": "d67431af",
   "metadata": {},
   "outputs": [
    {
     "name": "stdout",
     "output_type": "stream",
     "text": [
      "{'9', '5', '8', '0', '7', '4', '3', '2', '6', '1'}\n",
      "{'9', '5', '8', '7', '4', '10', '3', '2', '6', '1'}\n"
     ]
    }
   ],
   "source": [
    "print(setA)\n",
    "print(setB)"
   ]
  },
  {
   "cell_type": "code",
   "execution_count": 76,
   "id": "1183cb05",
   "metadata": {},
   "outputs": [
    {
     "name": "stdout",
     "output_type": "stream",
     "text": [
      "Union of A and B (setC)\n",
      "{'9', '5', '8', '7', '4', '0', '10', '3', '2', '6', '1'}\n"
     ]
    }
   ],
   "source": [
    "#union\n",
    "print('Union of A and B (setC)')\n",
    "setC=setA.union(setB)\n",
    "print(setC)"
   ]
  },
  {
   "cell_type": "code",
   "execution_count": 77,
   "id": "11018ffc",
   "metadata": {},
   "outputs": [
    {
     "name": "stdout",
     "output_type": "stream",
     "text": [
      "Intersection of A, B, and C (setD)\n",
      "{'9', '5', '8', '7', '4', '3', '2', '6', '1'}\n"
     ]
    }
   ],
   "source": [
    "#intersection\n",
    "print('Intersection of A, B, and C (setD)')\n",
    "setD= setA.intersection(setB,setC)\n",
    "print(setD)"
   ]
  },
  {
   "cell_type": "code",
   "execution_count": 80,
   "id": "deea135e",
   "metadata": {},
   "outputs": [
    {
     "name": "stdout",
     "output_type": "stream",
     "text": [
      "Set Difference\n",
      "Add another item to SetE: 15\n",
      "Add another item to SetE: 16\n",
      "Add another item to SetE: 17\n",
      "{'0', '15', '17', '16'}\n"
     ]
    }
   ],
   "source": [
    "#set difference\n",
    "print('Set Difference')\n",
    "setE = setA - setB\n",
    "for x in range(3):\n",
    "    new_item = input('Add another item to SetE: ')\n",
    "    setE.add(new_item)\n",
    "print(setE)"
   ]
  },
  {
   "cell_type": "code",
   "execution_count": 83,
   "id": "62401781",
   "metadata": {},
   "outputs": [
    {
     "name": "stdout",
     "output_type": "stream",
     "text": [
      "Symmetric Difference\n",
      "{'0', '10'}\n"
     ]
    }
   ],
   "source": [
    "#symm difference\n",
    "print('Symmetric Difference')\n",
    "setE = setA.symmetric_difference(setB)\n",
    "print(setE)"
   ]
  },
  {
   "cell_type": "code",
   "execution_count": 86,
   "id": "b403f8b7",
   "metadata": {},
   "outputs": [
    {
     "name": "stdout",
     "output_type": "stream",
     "text": [
      "Is setE a subset of setB\n",
      "False\n",
      "Is setA a superset of setD\n",
      "True\n"
     ]
    }
   ],
   "source": [
    "#comparing sets\n",
    "print('Is setE a subset of setB')\n",
    "print(setE.issubset(setB))\n",
    "\n",
    "print('Is setA a superset of setD')\n",
    "print(setA.issuperset(setD))"
   ]
  },
  {
   "cell_type": "code",
   "execution_count": 94,
   "id": "99328c98",
   "metadata": {},
   "outputs": [
    {
     "name": "stdout",
     "output_type": "stream",
     "text": [
      "Enter item in stackA: 1\n",
      "Enter item in stackA: 88\n",
      "Enter item in stackA: 4\n",
      "Enter item in stackA: 7\n",
      "Enter item in stackA: 61\n",
      "Enter item in stackA: 12\n",
      "Enter item in stackA: 13\n",
      "Enter item in stackA: 20\n",
      "Enter item in stackA: 91\n",
      "Enter item in stackA: 93\n"
     ]
    }
   ],
   "source": [
    "stackA = []\n",
    "for x in range(10):\n",
    "    item = input('Enter item in stackA: ')\n",
    "    stackA.append(item)"
   ]
  },
  {
   "cell_type": "code",
   "execution_count": 100,
   "id": "e6776831",
   "metadata": {},
   "outputs": [
    {
     "name": "stdout",
     "output_type": "stream",
     "text": [
      "Enter item in stackB: 55\n",
      "Enter item in stackB: 7\n",
      "Enter item in stackB: 8\n",
      "Enter item in stackB: 93\n",
      "Enter item in stackB: 1\n",
      "Enter item in stackB: 23\n",
      "Enter item in stackB: 12\n",
      "Enter item in stackB: 5\n",
      "Enter item in stackB: 4\n",
      "Enter item in stackB: 6\n"
     ]
    }
   ],
   "source": [
    "stackB = []\n",
    "for x in range(10):\n",
    "    item = input('Enter item in stackB: ')\n",
    "    stackB.append(item)"
   ]
  },
  {
   "cell_type": "code",
   "execution_count": 101,
   "id": "5815f622",
   "metadata": {},
   "outputs": [
    {
     "data": {
      "text/plain": [
       "['1', '88', '4', '7', '61', '12', '13', '20', '91', '93', 127]"
      ]
     },
     "execution_count": 101,
     "metadata": {},
     "output_type": "execute_result"
    }
   ],
   "source": [
    "#push\n",
    "stackA.append(127)\n",
    "stackA"
   ]
  },
  {
   "cell_type": "code",
   "execution_count": 102,
   "id": "1c942dcd",
   "metadata": {},
   "outputs": [
    {
     "data": {
      "text/plain": [
       "'6'"
      ]
     },
     "execution_count": 102,
     "metadata": {},
     "output_type": "execute_result"
    }
   ],
   "source": [
    "#pop\n",
    "\n",
    "stackB.pop()"
   ]
  },
  {
   "cell_type": "code",
   "execution_count": 118,
   "id": "ea664c82",
   "metadata": {},
   "outputs": [
    {
     "data": {
      "text/plain": [
       "False"
      ]
     },
     "execution_count": 118,
     "metadata": {},
     "output_type": "execute_result"
    }
   ],
   "source": [
    "def Isempty(stack):\n",
    "    return len(stack) == 0\n",
    "Isempty(stackA)"
   ]
  },
  {
   "cell_type": "code",
   "execution_count": 119,
   "id": "e262aec0",
   "metadata": {},
   "outputs": [
    {
     "ename": "AttributeError",
     "evalue": "'list' object has no attribute 'full'",
     "output_type": "error",
     "traceback": [
      "\u001b[1;31m---------------------------------------------------------------------------\u001b[0m",
      "\u001b[1;31mAttributeError\u001b[0m                            Traceback (most recent call last)",
      "Cell \u001b[1;32mIn[119], line 1\u001b[0m\n\u001b[1;32m----> 1\u001b[0m \u001b[43mstackB\u001b[49m\u001b[38;5;241;43m.\u001b[39;49m\u001b[43mfull\u001b[49m()\n",
      "\u001b[1;31mAttributeError\u001b[0m: 'list' object has no attribute 'full'"
     ]
    }
   ],
   "source": [
    "Isfull(stackB)"
   ]
  },
  {
   "cell_type": "code",
   "execution_count": null,
   "id": "0fc5b341",
   "metadata": {},
   "outputs": [],
   "source": []
  }
 ],
 "metadata": {
  "kernelspec": {
   "display_name": "Python 3 (ipykernel)",
   "language": "python",
   "name": "python3"
  },
  "language_info": {
   "codemirror_mode": {
    "name": "ipython",
    "version": 3
   },
   "file_extension": ".py",
   "mimetype": "text/x-python",
   "name": "python",
   "nbconvert_exporter": "python",
   "pygments_lexer": "ipython3",
   "version": "3.11.1"
  }
 },
 "nbformat": 4,
 "nbformat_minor": 5
}
