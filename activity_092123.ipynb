{
 "cells": [
  {
   "cell_type": "markdown",
   "id": "d04dad25",
   "metadata": {},
   "source": [
    "Write a Python program:\n",
    "\n",
    "- to iterate over sets.\n",
    "\n",
    "-  to add member(s) to a set.\n",
    "\n",
    "- to remove item(s) from a given set.\n",
    "\n",
    "- to remove an item from a set if it is present in the set.\n",
    "\n",
    "- to create an intersection of sets.\n",
    "\n",
    "- to create a union of sets.\n",
    "\n",
    "- to create set difference.\n",
    "\n",
    "- to create a symmetric difference.\n",
    "\n",
    "- to check if a set is a subset of another set.\n",
    "\n",
    "- to create a shallow copy of sets.\n",
    "\n",
    "Note : Shallow copy is a bit-wise copy of an object. A new object is created that has an exact copy of the values in the original object.\n",
    "\n",
    "- to remove all elements from a given set.\n",
    "\n",
    "- to find the maximum and minimum values in a set.\n",
    "\n",
    "- to find the length of a set.\n",
    "\n",
    "- to check if a given value is present in a set or not.\n",
    "\n",
    "- to check if two given sets have no elements in common."
   ]
  },
  {
   "cell_type": "code",
   "execution_count": 27,
   "id": "7075bed3",
   "metadata": {},
   "outputs": [
    {
     "name": "stdout",
     "output_type": "stream",
     "text": [
      "zoro\n",
      "merry\n",
      "nami\n",
      "luffy\n"
     ]
    }
   ],
   "source": [
    "straw_hats = {'luffy', 'zoro', 'nami', 'merry'}\n",
    "\n",
    "# to iterate over sets.\n",
    "\n",
    "for x in straw_hats:\n",
    "    print(x)"
   ]
  },
  {
   "cell_type": "code",
   "execution_count": 28,
   "id": "e37e4277",
   "metadata": {},
   "outputs": [
    {
     "name": "stdout",
     "output_type": "stream",
     "text": [
      "Add another member: usopp\n",
      "{'merry', 'luffy', 'zoro', 'usopp', 'nami'}\n"
     ]
    }
   ],
   "source": [
    "# to add member(s) to a set.\n",
    "new_crew = str(input('Add another member: '))\n",
    "straw_hats.add(new_crew)\n",
    "print(straw_hats)"
   ]
  },
  {
   "cell_type": "code",
   "execution_count": 29,
   "id": "edde2865",
   "metadata": {},
   "outputs": [
    {
     "name": "stdout",
     "output_type": "stream",
     "text": [
      "{'merry', 'luffy', 'zoro', 'nami'}\n"
     ]
    }
   ],
   "source": [
    "# to remove item(s) from a given set.\n",
    "straw_hats.remove(new_crew)\n",
    "print(straw_hats)"
   ]
  },
  {
   "cell_type": "code",
   "execution_count": 30,
   "id": "dd76b0fa",
   "metadata": {},
   "outputs": [
    {
     "name": "stdout",
     "output_type": "stream",
     "text": [
      "{'luffy', 'zoro', 'nami'}\n"
     ]
    }
   ],
   "source": [
    "# to remove an item from a set if it is present in the set.\n",
    "straw_hats.discard('merry')\n",
    "straw_hats.discard('sanji') #not in the set but no errors will be raised\n",
    "print(straw_hats)"
   ]
  },
  {
   "cell_type": "code",
   "execution_count": 31,
   "id": "1668f9ee",
   "metadata": {},
   "outputs": [
    {
     "name": "stdout",
     "output_type": "stream",
     "text": [
      "{'zoro'}\n"
     ]
    }
   ],
   "source": [
    "# to create an intersection of sets.\n",
    "captains = {'luffy', 'shanks', 'buggy', 'arlong'}\n",
    "swordsmen = {'mihawk', 'zoro', 'shanks', 'roger'}\n",
    "straw_hats.intersection_update(swordsmen)\n",
    "print(straw_hats)"
   ]
  },
  {
   "cell_type": "code",
   "execution_count": 36,
   "id": "4d2f7e08",
   "metadata": {},
   "outputs": [
    {
     "data": {
      "text/plain": [
       "{'arlong', 'buggy', 'luffy', 'shanks', 'zoro'}"
      ]
     },
     "execution_count": 36,
     "metadata": {},
     "output_type": "execute_result"
    }
   ],
   "source": [
    "# to create a union of sets.\n",
    "pirates = straw_hats.union(captains)\n",
    "pirates"
   ]
  },
  {
   "cell_type": "code",
   "execution_count": 37,
   "id": "eec335e2",
   "metadata": {},
   "outputs": [
    {
     "name": "stdout",
     "output_type": "stream",
     "text": [
      "{'zoro', 'roger', 'mihawk'}\n"
     ]
    }
   ],
   "source": [
    "# to create set difference.\n",
    "print(swordsmen.difference(captains)) #shanks get removed bc he also belongs to captains"
   ]
  },
  {
   "cell_type": "code",
   "execution_count": 38,
   "id": "e5a2b13c",
   "metadata": {},
   "outputs": [
    {
     "data": {
      "text/plain": [
       "True"
      ]
     },
     "execution_count": 38,
     "metadata": {},
     "output_type": "execute_result"
    }
   ],
   "source": [
    "# to check if a set is a subset of another set.\n",
    "straw_hats.issubset(swordsmen) "
   ]
  },
  {
   "cell_type": "code",
   "execution_count": 39,
   "id": "40d536e5",
   "metadata": {},
   "outputs": [
    {
     "name": "stdout",
     "output_type": "stream",
     "text": [
      "{'east blue', 'grand line', 'north blue', 'baratie'}\n"
     ]
    }
   ],
   "source": [
    "# to create a shallow copy of sets.\n",
    "places = {'east blue', 'grand line', 'north blue', 'baratie'}\n",
    "places2 = places.copy()\n",
    "print(places2)"
   ]
  },
  {
   "cell_type": "code",
   "execution_count": 40,
   "id": "9153d3ba",
   "metadata": {},
   "outputs": [
    {
     "name": "stdout",
     "output_type": "stream",
     "text": [
      "set()\n"
     ]
    }
   ],
   "source": [
    "# to remove all elements from a given set.\n",
    "places2.clear()\n",
    "print(places2)"
   ]
  },
  {
   "cell_type": "code",
   "execution_count": 42,
   "id": "e160cdab",
   "metadata": {},
   "outputs": [
    {
     "name": "stdout",
     "output_type": "stream",
     "text": [
      "Maximum: 127\n",
      "Minimum: 0\n"
     ]
    }
   ],
   "source": [
    "# to find the maximum and minimum values in a set.\n",
    "a = {5, 127, 9, 20, 0}\n",
    "a_list = list(a)\n",
    "maximum = max(a_list)\n",
    "minimum = min(a_list)\n",
    "\n",
    "print(\"Maximum:\", maximum)\n",
    "print(\"Minimum:\", minimum)"
   ]
  },
  {
   "cell_type": "code",
   "execution_count": 44,
   "id": "a15a0504",
   "metadata": {},
   "outputs": [
    {
     "name": "stdout",
     "output_type": "stream",
     "text": [
      "There are 4 items in the captains set\n"
     ]
    }
   ],
   "source": [
    "# to find the length of a set.\n",
    "print(f'There are {len(captains)} items in the captains set')"
   ]
  },
  {
   "cell_type": "code",
   "execution_count": 45,
   "id": "ea868503",
   "metadata": {},
   "outputs": [
    {
     "name": "stdout",
     "output_type": "stream",
     "text": [
      "False\n"
     ]
    }
   ],
   "source": [
    "# to check if a given value is present in a set or not.\n",
    "print('garp' in pirates)"
   ]
  },
  {
   "cell_type": "code",
   "execution_count": 49,
   "id": "02bfebf2",
   "metadata": {},
   "outputs": [
    {
     "data": {
      "text/plain": [
       "False"
      ]
     },
     "execution_count": 49,
     "metadata": {},
     "output_type": "execute_result"
    }
   ],
   "source": [
    "# to check if two given sets have no elements in common.\n",
    "pirates.isdisjoint(swordsmen)\n"
   ]
  },
  {
   "cell_type": "code",
   "execution_count": null,
   "id": "a3d76812",
   "metadata": {},
   "outputs": [],
   "source": []
  }
 ],
 "metadata": {
  "kernelspec": {
   "display_name": "Python 3 (ipykernel)",
   "language": "python",
   "name": "python3"
  },
  "language_info": {
   "codemirror_mode": {
    "name": "ipython",
    "version": 3
   },
   "file_extension": ".py",
   "mimetype": "text/x-python",
   "name": "python",
   "nbconvert_exporter": "python",
   "pygments_lexer": "ipython3",
   "version": "3.11.1"
  }
 },
 "nbformat": 4,
 "nbformat_minor": 5
}
